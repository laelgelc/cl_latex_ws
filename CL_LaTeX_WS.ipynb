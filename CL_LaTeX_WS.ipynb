{
 "cells": [
  {
   "cell_type": "markdown",
   "id": "810d9f10-ec19-4b09-8f90-e983e460b319",
   "metadata": {},
   "source": [
    "<center>\n",
    "<img src=\"https://laelgelcpublic.s3.sa-east-1.amazonaws.com/lael_50_years_narrow_white.png.no_years.400px_96dpi.png\" width=\"300\" alt=\"LAEL 50 years logo\">\n",
    "<h3>PROGRAMA DE PÓS-GRADUAÇÃO EM LINGUÍSTICA APLICADA E ESTUDOS DA LINGUAGEM (LAEL)</h3>\n",
    "</center>\n",
    "<hr>"
   ]
  },
  {
   "cell_type": "markdown",
   "id": "888c2c96-2fc3-4a1a-995b-c388036a2a15",
   "metadata": {},
   "source": [
    "# Oficina de LaTeX\n",
    "Segundo semestre de 2023"
   ]
  },
  {
   "cell_type": "markdown",
   "id": "7a9c2af7-9fc1-4f51-a4f5-2ed915b93039",
   "metadata": {},
   "source": [
    "## 1. Data do evento e link da videochamada Teams"
   ]
  },
  {
   "cell_type": "markdown",
   "id": "f1e1b226-c27d-4ded-a63f-16da009445f2",
   "metadata": {},
   "source": [
    "- Evento\n",
    "  - 30 de outubro de 2023, das 15:00 às 17:00 (BRT/UTC-3h)\n",
    "  - [Videochamada Teams](https://teams.microsoft.com/l/meetup-join/19%3ameeting_ZjQ3MjRjYjUtZjAxNy00MzdlLWEzYWEtNzQ2Njc3YTcyODdh%40thread.v2/0?context=%7b%22Tid%22%3a%228eb29201-a27d-4302-8473-c982eb5be935%22%2c%22Oid%22%3a%22ab8b59c4-4e69-4c4c-9956-b208945103a6%22%7d)"
   ]
  }
 ],
 "metadata": {
  "kernelspec": {
   "display_name": "anaconda-panel-2023.05-py310",
   "language": "python",
   "name": "conda-env-anaconda-panel-2023.05-py310-py"
  },
  "language_info": {
   "codemirror_mode": {
    "name": "ipython",
    "version": 3
   },
   "file_extension": ".py",
   "mimetype": "text/x-python",
   "name": "python",
   "nbconvert_exporter": "python",
   "pygments_lexer": "ipython3",
   "version": "3.11.5"
  }
 },
 "nbformat": 4,
 "nbformat_minor": 5
}
