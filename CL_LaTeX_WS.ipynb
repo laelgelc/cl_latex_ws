{
 "cells": [
  {
   "cell_type": "markdown",
   "id": "810d9f10-ec19-4b09-8f90-e983e460b319",
   "metadata": {},
   "source": [
    "<center>\n",
    "<img src=\"https://laelgelcpublic.s3.sa-east-1.amazonaws.com/lael_50_years_narrow_white.png.no_years.400px_96dpi.png\" width=\"300\" alt=\"LAEL 50 years logo\">\n",
    "<h3>PROGRAMA DE PÓS-GRADUAÇÃO EM LINGUÍSTICA APLICADA E ESTUDOS DA LINGUAGEM (LAEL)</h3>\n",
    "</center>\n",
    "<hr>"
   ]
  },
  {
   "cell_type": "markdown",
   "id": "888c2c96-2fc3-4a1a-995b-c388036a2a15",
   "metadata": {},
   "source": [
    "# Oficina de LaTeX\n",
    "Segundo semestre de 2023"
   ]
  },
  {
   "cell_type": "markdown",
   "id": "7a9c2af7-9fc1-4f51-a4f5-2ed915b93039",
   "metadata": {},
   "source": [
    "## 1. Data do evento e link da videochamada Teams"
   ]
  },
  {
   "cell_type": "markdown",
   "id": "f1e1b226-c27d-4ded-a63f-16da009445f2",
   "metadata": {},
   "source": [
    "- Evento\n",
    "  - 30 de outubro de 2023, das 15:00 às 17:00 (BRT/UTC-3h)\n",
    "  - [Videochamada](https://teams.microsoft.com/l/meetup-join/19%3ameeting_ZjQ3MjRjYjUtZjAxNy00MzdlLWEzYWEtNzQ2Njc3YTcyODdh%40thread.v2/0?context=%7b%22Tid%22%3a%228eb29201-a27d-4302-8473-c982eb5be935%22%2c%22Oid%22%3a%22ab8b59c4-4e69-4c4c-9956-b208945103a6%22%7d)"
   ]
  },
  {
   "cell_type": "markdown",
   "id": "751ce73e-3e0a-436d-906a-4f5aa10c8386",
   "metadata": {},
   "source": [
    "## 2. Visão geral do Zotero"
   ]
  },
  {
   "cell_type": "markdown",
   "id": "a9887240-e5df-4673-ab12-1f629a034381",
   "metadata": {},
   "source": [
    "[Zotero](https://www.zotero.org) é um sistema de gerenciamento de bibliografia. Para fins desta oficina, suas principais funcionalidades são:\n",
    "- Adicionar itens à biblioteca por identificador\n",
    "- Adicionar itens à biblioteca via 'Zotero Connector', uma extensão para browser\n",
    "- Acesso à biblioteca online (Web Library)\n",
    "- Organizar coleções\n",
    "- Exportar uma coleção (ou toda a biblioteca) a um arquivo em formato BibTeX\n",
    "- Carregar um arquivo em formato BibTex à biblioteca (atenção: isto pode duplicar itens na biblioteca)"
   ]
  },
  {
   "cell_type": "markdown",
   "id": "c1334b89-7bcf-4f46-bfbf-46c51b6a9110",
   "metadata": {},
   "source": [
    "### 2.1. Acompanhe a demonstração do Zotero"
   ]
  },
  {
   "cell_type": "markdown",
   "id": "422f8322-58fc-4f27-ae80-7cf58865e1fb",
   "metadata": {},
   "source": [
    "### 2.2. Baixe o arquivo 'WS_LaTeX.bib'"
   ]
  },
  {
   "cell_type": "markdown",
   "id": "ef8a8ae0-523d-4312-b325-79b93ab86c91",
   "metadata": {},
   "source": [
    "[WS_LaTeX.bib](https://laelgelclatexws.s3.sa-east-1.amazonaws.com/WS_LaTeX.bib)"
   ]
  },
  {
   "cell_type": "markdown",
   "id": "7273c56e-0a8e-4f3a-8643-37063b8e99bc",
   "metadata": {},
   "source": [
    "## 3. Visão geral do Overleaf"
   ]
  },
  {
   "cell_type": "markdown",
   "id": "caf28a72-4fcb-4b6b-98ff-c3cc08233624",
   "metadata": {},
   "source": [
    "[Overleaf](https://www.overleaf.com/project) é uma plataforma de composição e organização de documentos LaTeX na nuvem. Para fins desta oficina, suas principais funcionalidades são:\n",
    "- Acessível por qualquer computador com browser web\n",
    "- Permite trabalhar com vários documentos simultaneamente, um por tab\n",
    "- Criação e organização de projetos (documentos) LaTeX\n",
    "- "
   ]
  },
  {
   "cell_type": "code",
   "execution_count": null,
   "id": "97f86103-7855-47bb-b7de-b0c7dae87489",
   "metadata": {},
   "outputs": [],
   "source": []
  },
  {
   "cell_type": "code",
   "execution_count": null,
   "id": "2cba683b-c148-4357-bcf7-6a4b044d962d",
   "metadata": {},
   "outputs": [],
   "source": [
    "\\documentclass{article}\n",
    "\\usepackage{graphicx} % Required for inserting images\n",
    "\\usepackage{geometry}\n",
    " \\geometry{\n",
    " a4paper,\n",
    " total={160mm, 247mm},\n",
    " left=30mm,\n",
    " top=30mm}\n",
    "\\usepackage[natbibapa]{apacite}\n",
    "%\\usepackage[alf]{abntex2cite}\n",
    "\\usepackage{url}\n",
    "\\usepackage[utf8]{inputenc}\n",
    "\\renewcommand{\\rmdefault}{\\sfdefault}\n",
    "%\\usepackage[brazilian]{babel}\n",
    "\n",
    "\\title{Article - Template}\n",
    "\\author{Name Surname} % Your name here\n",
    "%\\date{August 2023}\n",
    "\n",
    "\\begin{document}\n",
    "\n",
    "\\maketitle\n",
    "\n",
    "\\begin{abstract}\n",
    "    abstract\n",
    "\\end{abstract}\n",
    "\n",
    "\\section{Introduction}\n",
    "\n",
    "According to \\cite{adichie_headstrong_2008}\n",
    "\n",
    "\\section{Literature review}\n",
    "\n",
    "\\section{Methods}\n",
    "\n",
    "\\section{Analysis and discussion of results}\n",
    "\n",
    "\\section{Final considerations}\n",
    "\n",
    "\\bibliographystyle{apacite}\n",
    "\\bibliography{Library20231025} % Copy you BibTex library (.bib file) to the same folder of the .tex file and indicate here the filename without the .bib extension\n",
    "\n",
    "\\end{document}\n"
   ]
  },
  {
   "cell_type": "code",
   "execution_count": null,
   "id": "dda38714-7ace-4a2b-b1a8-65349f548f00",
   "metadata": {},
   "outputs": [],
   "source": []
  },
  {
   "cell_type": "markdown",
   "id": "c0e375c3-4197-4cad-97c4-e7c5b78be283",
   "metadata": {},
   "source": [
    "<center>\n",
    "<img src=\"https://laelgelclatexws.s3.sa-east-1.amazonaws.com/degrees-360.png\" width=\"300\" alt=\"degrees-360\">\n",
    "<h4>Círculo completo de 360°</h4>\n",
    "</center>\n",
    "\n",
    "[Degrees (Angles)](https://www.mathsisfun.com/geometry/degrees.html)"
   ]
  },
  {
   "cell_type": "markdown",
   "id": "969de116-dac7-4a3d-8429-d5bb8999b1c6",
   "metadata": {},
   "source": [
    "<center>\n",
    "<img src=\"https://laelgelclatexws.s3.sa-east-1.amazonaws.com/compass_rose_en_08p.png\" width=\"300\" alt=\"degrees-360\">\n",
    "<h4>Rosa dos ventos</h4>\n",
    "</center>\n",
    "\n",
    "[Points of the compass](https://en.wikipedia.org/w/index.php?title=Points_of_the_compass&oldid=1179526351)"
   ]
  },
  {
   "cell_type": "markdown",
   "id": "47d5a489-bf19-4554-8b54-1ea4bddc1b88",
   "metadata": {},
   "source": [
    "## Referências"
   ]
  },
  {
   "cell_type": "markdown",
   "id": "b576b103-4598-41fe-bfb9-b813c8c6b686",
   "metadata": {},
   "source": [
    "[CTAN: Comprehensive TeX Archive Network](https://www.ctan.org/)\n",
    "\n",
    "[Degrees (Angles)](https://www.mathsisfun.com/geometry/degrees.html)\n",
    "\n",
    "[LaTeX - A document preparation system](https://www.latex-project.org/)\n",
    "\n",
    "[Library Guides: LaTeX: A Brief Guide To LaTeX](https://guides.libraries.psu.edu/latex/create)\n",
    "\n",
    "[Overleaf - Documentation](https://www.overleaf.com/learn)\n",
    "\n",
    "[pgf – A Portable Graphic Format for TeX](https://github.com/pgf-tikz/pgf)\n",
    "\n",
    "[PGF/TikZ Manual - Complete Online Documentation](https://tikz.dev/)\n",
    "\n",
    "[PGF/TikZ Manual - PDF](https://pgf-tikz.github.io/pgf/pgfmanual.pdf)\n",
    "\n",
    "[Points of the compass](https://en.wikipedia.org/w/index.php?title=Points_of_the_compass&oldid=1179526351)\n",
    "\n",
    "[TikZ and PGF examples](https://texample.net/tikz/examples/all/)\n",
    "\n",
    "[Zotero - Documentation](https://www.zotero.org/support/)"
   ]
  },
  {
   "cell_type": "markdown",
   "id": "364ef2e9-aeff-4cae-9c46-b453c78d0566",
   "metadata": {},
   "source": [
    "## Apêndice A - Banco de modelos"
   ]
  },
  {
   "cell_type": "markdown",
   "id": "d4c1b9c2-1b75-4661-9e12-05767df9e2e8",
   "metadata": {},
   "source": [
    "[Templates bank](https://1drv.ms/f/s!AkJfqVKkVEiigQPu_CZgbPgBuWCI?e=htzpwg)"
   ]
  },
  {
   "cell_type": "code",
   "execution_count": null,
   "id": "d823bf3e-7a8f-48d1-a050-20a5f8c3573a",
   "metadata": {},
   "outputs": [],
   "source": []
  }
 ],
 "metadata": {
  "kernelspec": {
   "display_name": "anaconda-panel-2023.05-py310",
   "language": "python",
   "name": "conda-env-anaconda-panel-2023.05-py310-py"
  },
  "language_info": {
   "codemirror_mode": {
    "name": "ipython",
    "version": 3
   },
   "file_extension": ".py",
   "mimetype": "text/x-python",
   "name": "python",
   "nbconvert_exporter": "python",
   "pygments_lexer": "ipython3",
   "version": "3.11.5"
  }
 },
 "nbformat": 4,
 "nbformat_minor": 5
}
