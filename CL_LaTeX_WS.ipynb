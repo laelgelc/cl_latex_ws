{
 "cells": [
  {
   "cell_type": "markdown",
   "id": "810d9f10-ec19-4b09-8f90-e983e460b319",
   "metadata": {},
   "source": [
    "<center>\n",
    "<img src=\"https://laelgelcpublic.s3.sa-east-1.amazonaws.com/lael_50_years_narrow_white.png.no_years.400px_96dpi.png\" width=\"300\" alt=\"LAEL 50 years logo\">\n",
    "<h3>PROGRAMA DE PÓS-GRADUAÇÃO EM LINGUÍSTICA APLICADA E ESTUDOS DA LINGUAGEM (LAEL)</h3>\n",
    "</center>\n",
    "<hr>"
   ]
  },
  {
   "cell_type": "markdown",
   "id": "888c2c96-2fc3-4a1a-995b-c388036a2a15",
   "metadata": {},
   "source": [
    "# Oficina de LaTeX\n",
    "Segundo semestre de 2023"
   ]
  },
  {
   "cell_type": "markdown",
   "id": "db1b9e9b-7a7f-4fd4-a1d0-08f671e206fa",
   "metadata": {},
   "source": [
    "[Vídeo da sessão gravada (02:50:14)](https://bit.ly/latexws2023vid)"
   ]
  },
  {
   "cell_type": "markdown",
   "id": "7a9c2af7-9fc1-4f51-a4f5-2ed915b93039",
   "metadata": {},
   "source": [
    "## 1. Data do evento e link da videochamada Teams"
   ]
  },
  {
   "cell_type": "markdown",
   "id": "f1e1b226-c27d-4ded-a63f-16da009445f2",
   "metadata": {},
   "source": [
    "- Evento\n",
    "  - 30 de outubro de 2023, das 15:00 às 17:00 (BRT/UTC-3h)\n",
    "  - [Videochamada](https://teams.microsoft.com/l/meetup-join/19%3ameeting_ZjQ3MjRjYjUtZjAxNy00MzdlLWEzYWEtNzQ2Njc3YTcyODdh%40thread.v2/0?context=%7b%22Tid%22%3a%228eb29201-a27d-4302-8473-c982eb5be935%22%2c%22Oid%22%3a%22ab8b59c4-4e69-4c4c-9956-b208945103a6%22%7d)"
   ]
  },
  {
   "cell_type": "markdown",
   "id": "751ce73e-3e0a-436d-906a-4f5aa10c8386",
   "metadata": {},
   "source": [
    "## 2. Visão geral do Zotero"
   ]
  },
  {
   "cell_type": "markdown",
   "id": "a9887240-e5df-4673-ab12-1f629a034381",
   "metadata": {},
   "source": [
    "[Zotero](https://www.zotero.org) é um sistema de gerenciamento de bibliografia. Para fins desta oficina, suas principais funcionalidades são:\n",
    "- Adicionar itens à biblioteca por identificador\n",
    "- Adicionar itens à biblioteca via 'Zotero Connector', uma extensão para browser\n",
    "- Acesso à biblioteca online (Web Library)\n",
    "- Organizar coleções\n",
    "- Exportar uma coleção (ou toda a biblioteca) a um arquivo em formato BibTeX\n",
    "- Carregar um arquivo em formato BibTex à biblioteca (atenção: isto pode duplicar itens na biblioteca)"
   ]
  },
  {
   "cell_type": "markdown",
   "id": "c1334b89-7bcf-4f46-bfbf-46c51b6a9110",
   "metadata": {},
   "source": [
    "### 2.1. Acompanhe a demonstração do Zotero"
   ]
  },
  {
   "cell_type": "markdown",
   "id": "422f8322-58fc-4f27-ae80-7cf58865e1fb",
   "metadata": {},
   "source": [
    "### 2.2. Baixe o arquivo 'WS_LaTeX.bib'"
   ]
  },
  {
   "cell_type": "markdown",
   "id": "ef8a8ae0-523d-4312-b325-79b93ab86c91",
   "metadata": {},
   "source": [
    "[WS_LaTeX.bib](https://laelgelclatexws.s3.sa-east-1.amazonaws.com/WS_LaTeX.bib)"
   ]
  },
  {
   "cell_type": "markdown",
   "id": "7273c56e-0a8e-4f3a-8643-37063b8e99bc",
   "metadata": {},
   "source": [
    "## 3. Visão geral do Overleaf"
   ]
  },
  {
   "cell_type": "markdown",
   "id": "caf28a72-4fcb-4b6b-98ff-c3cc08233624",
   "metadata": {},
   "source": [
    "[Overleaf](https://www.overleaf.com/project) é uma plataforma de composição e organização de documentos LaTeX na nuvem. Para fins desta oficina, suas principais funcionalidades são:\n",
    "- Acessível por qualquer computador com browser web\n",
    "- Permite trabalhar com vários documentos simultaneamente, um por tab\n",
    "- Criação e organização de projetos (documentos) LaTeX\n",
    "- Permite carregar projetos (arquivo .zip)\n",
    "- Vários leiautes de visualização do editor e do documento compilado em PDF\n",
    "- Contagem de palavras\n",
    "- Substituição de compilador LaTeX\n",
    "- Verificação de ortografia em vários idiomas\n",
    "- Ferramenta de busca e substituição de texto\n",
    "- Sugestão automática de sintaxe de comandos\n",
    "- Oferece documentação online farta e com exemplos\n",
    "  - Em um buscador, entre 'overleaf page setup', por exemplo"
   ]
  },
  {
   "cell_type": "markdown",
   "id": "9bb96416-74df-4268-9574-db52f672cd23",
   "metadata": {},
   "source": [
    "## 4. Estrutura básica de um documento LaTeX"
   ]
  },
  {
   "cell_type": "markdown",
   "id": "632fb243-c2d5-41a5-a0ce-00569d2408d0",
   "metadata": {},
   "source": [
    "A proposta do LaTeX é permitir que o autor se concentre na produção do **conteúdo** do documento sem se preocupar com o seu **estilo** (tipografia). Basicamente, um documento LaTeX é composto de três partes:\n",
    "- **Preâmbulo**\n",
    "  - Definição de tipo de documento e sua parametrização\n",
    "  - Declaração dos pacotes LaTeX desejados\n",
    "    - Pacotes LaTeX são módulos de software que agregam novas funcionalidades (comandos) ao documento ou estendem a funcionalidade de pacotes existentes ou alteram o comportamento padrão do sistema. Isto significa que **comandos específicos requerem pacotes LaTeX específicos**\n",
    "    - Pacotes LaTeX podem ser interdependentes e, portanto, podem causar conflitos\n",
    "  - *Analogia: Casa das máquinas*\n",
    "- **Ambiente do documento**\n",
    "  - Consiste no corpo/conteúdo do documento. Por exemplo: Parágrafos, Seções, Figuras, Tabelas, Diagramas, etc.\n",
    "    - O autor posiciona vários comandos ao longo do documento para instruir o compilador LaTeX a aplicar o estilo (estrutura, apresentação, esquema, etc.) desejado\n",
    "  - *Analogia: Sala de aula, escritório, etc.*\n",
    "- **Páginas especiais (opcionais)**\n",
    "  - Por exemplo: índices, glossários, bibliografia, etc.\n",
    "\n",
    "A **sintaxe básica** de um comando LaTeX é:\n",
    " - \\comando[argumentos opcionais]{argumentos obrigatórios}\n",
    "   - Exemplo: \\cite[p.~100]{berber_sardinha_deus_2023}"
   ]
  },
  {
   "cell_type": "markdown",
   "id": "213f4e27-527f-4a2e-b452-8e2f1942d0b1",
   "metadata": {},
   "source": [
    "### 4.1. Identifique as partes do documento LaTeX a seguir"
   ]
  },
  {
   "cell_type": "code",
   "execution_count": null,
   "id": "2cba683b-c148-4357-bcf7-6a4b044d962d",
   "metadata": {},
   "outputs": [],
   "source": [
    "\\documentclass{article}\n",
    "\\usepackage{graphicx} % Required for inserting images\n",
    "\n",
    "\\title{Oficina de LaTeX}\n",
    "\\author{Nome Sobrenome}\n",
    "\\date{Outubro de 2023}\n",
    "\n",
    "\\begin{document}\n",
    "\n",
    "\\maketitle\n",
    "\n",
    "\\section{Introdução}\n",
    "\n",
    "\\end{document}\n"
   ]
  },
  {
   "cell_type": "markdown",
   "id": "0d4fa973-3e9e-4c6d-af14-dfdc05c6482b",
   "metadata": {},
   "source": [
    "#### 4.1.1. Preâmbulo"
   ]
  },
  {
   "cell_type": "code",
   "execution_count": null,
   "id": "3b7da7dd-e52a-44d4-bfb5-b3384535da92",
   "metadata": {},
   "outputs": [],
   "source": [
    "\\documentclass{article}\n",
    "\\usepackage{graphicx} % Required for inserting images\n",
    "\n",
    "\\title{Oficina de LaTeX}\n",
    "\\author{Nome Sobrenome}\n",
    "\\date{Outubro de 2023}\n"
   ]
  },
  {
   "cell_type": "markdown",
   "id": "29747aef-d3f7-4806-94e6-cee89f3b2561",
   "metadata": {},
   "source": [
    "#### 4.1.2. Ambiente do documento (corpo)\n",
    "No LaTeX, ambientes (tabela, figura, etc.) são delimitados pelos comandos '\\begin{}' e '/end{}'"
   ]
  },
  {
   "cell_type": "code",
   "execution_count": null,
   "id": "d297c179-f2c5-4b8d-8467-8d11d35f9013",
   "metadata": {},
   "outputs": [],
   "source": [
    "\\begin{document}\n",
    "\n",
    "\\maketitle\n",
    "\n",
    "\\section{Introdução}\n",
    "\n",
    "\\end{document}\n"
   ]
  },
  {
   "cell_type": "markdown",
   "id": "eafca0bb-5553-4de7-85b0-205db4d49f43",
   "metadata": {},
   "source": [
    "### 4.2. Caracteres reservados"
   ]
  },
  {
   "cell_type": "markdown",
   "id": "938623db-ab62-4d8d-8986-63fa9295b3fa",
   "metadata": {},
   "source": [
    "Certos caracteres sinalizam ao compilador LaTeX operações especiais. Tais caracteres são denominados 'caracteres reservados'. O autor necessita indicar ao compilador quando for desejado 'desativar' o significado especial de tais caracteres precedendo-os, na maioria dos casos, com o caracter de escape '\\\\'."
   ]
  },
  {
   "cell_type": "markdown",
   "id": "654f793d-65ba-4e53-af91-681a0ce16f1f",
   "metadata": {},
   "source": [
    "#### 4.2.1. Utilizando esta [referência](https://www.aps.org/meetings/abstract/latex.cfm), identifique os caracteres reservados na seguinte sentença e ajuste-a a fim de que sejam impressos no documento"
   ]
  },
  {
   "cell_type": "code",
   "execution_count": null,
   "id": "b817524d-efc5-4f47-b53c-762e0eec4ce5",
   "metadata": {
    "tags": []
   },
   "outputs": [],
   "source": [
    "\\cite[p.~100]{berber_sardinha_deus_2023}"
   ]
  },
  {
   "cell_type": "markdown",
   "id": "94af51ed-f78c-4e85-a7e6-131f9d9cc3a1",
   "metadata": {},
   "source": [
    "Resposta:"
   ]
  },
  {
   "cell_type": "code",
   "execution_count": null,
   "id": "19d3448d-a753-4834-8fee-f31ca4935222",
   "metadata": {},
   "outputs": [],
   "source": [
    "$\\backslash$cite[p.$\\sim$100]\\{berber\\_sardinha\\_deus\\_2023\\}"
   ]
  },
  {
   "cell_type": "markdown",
   "id": "42731858-58ce-4841-925a-f783faa6dc9e",
   "metadata": {},
   "source": [
    "### 4.3. Recomendações"
   ]
  },
  {
   "cell_type": "markdown",
   "id": "ab60cd92-f24d-461b-83d7-56bcc09937fe",
   "metadata": {},
   "source": [
    "- Crie o arquivo de bibliografia no Zotero e associe-o ao documento\n",
    "- Mantenha o preâmbulo bem organizado, utilize comentários, indentação e seja minimalista\n",
    "  - Adote uma indentação de 4 espaços\n",
    "- Separe os parágrafos e ambientes com uma linha em branco\n",
    "- Trabalhe com modelos de código (code snippets) de seu repertório\n",
    "- Compile o documento regularmente e esteja atento às mensagens de erro\n",
    "- Utilize o recurso de 'sugestão de sintaxe de comandos' para aumentar o desempenho da escrita (evite operações de mouse excessivamente frequentes)\n",
    "- Busque na Internet por 'overleaf + tópico' e/ou por 'latex + tópico'\n",
    "- Pergunte ao ChatGPT"
   ]
  },
  {
   "cell_type": "markdown",
   "id": "d2a0f2f7-b86b-4ef9-a014-828e6112eed8",
   "metadata": {},
   "source": [
    "**Um código bem organizado facilita a leitura e a resolução de problemas**"
   ]
  },
  {
   "cell_type": "markdown",
   "id": "65d4f545-cdff-43c1-9afe-921def06f3e3",
   "metadata": {},
   "source": [
    "<center>\n",
    "<img src=\"https://laelgelclatexws.s3.sa-east-1.amazonaws.com/chagpt_query.jpg\" width=\"1000\" alt=\"degrees-360\">\n",
    "<h4>ChatGPT query</h4>\n",
    "</center>\n",
    "\n",
    "[Bing](https://sl.bing.net/iX0uq6N4vD2)"
   ]
  },
  {
   "cell_type": "markdown",
   "id": "ad42596e-24c8-4ddd-ace3-60fd31f39785",
   "metadata": {},
   "source": [
    "## 5. Formato de artigo"
   ]
  },
  {
   "cell_type": "markdown",
   "id": "1b42f005-1e42-40c8-b275-5c4dc7426bef",
   "metadata": {},
   "source": [
    "### 5.1. Crie um novo projeto e nomeie-o 'Oficina-de-LaTeX-Artigo'"
   ]
  },
  {
   "cell_type": "markdown",
   "id": "4956845c-11b6-4ea5-a6fd-678671669562",
   "metadata": {},
   "source": [
    "#### 5.1.1. Substitua o conteúdo original de 'main.tex'"
   ]
  },
  {
   "cell_type": "code",
   "execution_count": null,
   "id": "4de47460-a15c-45c5-934c-92f992325fd0",
   "metadata": {},
   "outputs": [],
   "source": [
    "\\documentclass{article}\n",
    "\\usepackage{graphicx} % Required for inserting images\n",
    "\n",
    "\\title{Oficina de LaTeX - Artigo}\n",
    "\\author{Rogerio Yamada}\n",
    "\\date{October 2023}\n",
    "\n",
    "\\begin{document}\n",
    "\n",
    "\\maketitle\n",
    "\n",
    "\\section{Introduction}\n",
    "\n",
    "\\end{document}\n"
   ]
  },
  {
   "cell_type": "markdown",
   "id": "d14ce6f6-4269-4370-93ca-6990ffa0843c",
   "metadata": {},
   "source": [
    "#### 5.1.2. pelo conteúdo a seguir"
   ]
  },
  {
   "cell_type": "code",
   "execution_count": null,
   "id": "4e0fd41d-7962-458b-96ab-6b880a658ce3",
   "metadata": {},
   "outputs": [],
   "source": [
    "\\documentclass{article}\n",
    "%\\usepackage{graphicx} % Required for inserting images\n",
    "\\usepackage{tikz} % Enable TikZ graphic elements package\n",
    " \\tikzset{>=latex}\n",
    "\\usepackage{pgfplots}\n",
    " \\pgfplotsset{compat=1.8}\n",
    "\\usepackage{geometry} % Defines the page setup\n",
    " \\geometry{\n",
    " a4paper,\n",
    " landscape,\n",
    " total={247mm, 160mm},\n",
    " left=30mm,\n",
    " top=30mm}\n",
    "%\\usepackage{showframe} % Use it to check the document's page setup\n",
    "\\usepackage{blindtext} % Use it to generate text to help check the document's page setup\n",
    "\\usepackage[natbibapa]{apacite} % Use it to enable APA style\n",
    "%\\usepackage[alf]{abntex2cite} % Use it to enable ABNT style\n",
    "\\usepackage{url} % Allows URLs to be clickable\n",
    "\\usepackage{hyperref} % Allows the use of hyperlinks\n",
    "\\usepackage[utf8]{inputenc} % Sets the document encoding to UTF8\n",
    "\\renewcommand{\\rmdefault}{\\sfdefault} % Changes to sans serif typeface\n",
    "%\\usepackage[brazilian]{babel} % Sets multilingual support to 'brazilian'\n",
    "\\usepackage{caption} % Enables better management of captions\n",
    "\\usepackage{float} % Enables better management of floating objects\n",
    "\\usepackage{multirow} % Enables the combination of rows and columns in tables\n",
    "\n",
    "\\title{Article - Template}\n",
    "\\author{Name Surname} % Your name here\n",
    "%\\date{August 2023}\n",
    "\n",
    "\\begin{document}\n",
    "\n",
    "\\maketitle\n",
    "\n",
    "\\begin{abstract}\n",
    "    abstract\n",
    "\\end{abstract}\n",
    "\n",
    "\\section{Introduction}\n",
    "\n",
    "According to \\cite{berber_sardinha_deus_2023}\n",
    "\n",
    "\\section{Literature review}\n",
    "\n",
    "\\section{Methods}\n",
    "\n",
    "\\section{Analysis and discussion of results}\n",
    "\n",
    "\\section{Final considerations}\n",
    "\n",
    "\\bibliographystyle{apacite}\n",
    "\\bibliography{Library20231025} % Copy you BibTex library (.bib file) to the same folder of the .tex file and indicate here the filename without the .bib extension\n",
    "\n",
    "\\end{document}\n"
   ]
  },
  {
   "cell_type": "markdown",
   "id": "b04f82e9-0d8f-4c12-b730-61c72a66cbf5",
   "metadata": {},
   "source": [
    "#### 5.1.3. Carregue o arguivo 'WS_LaTeX.bib' e associe-o ao documento"
   ]
  },
  {
   "cell_type": "markdown",
   "id": "3de69f0e-9d3e-4679-a01f-f87e12baea82",
   "metadata": {},
   "source": [
    "##### 5.1.3.1. Ambiente do documento"
   ]
  },
  {
   "cell_type": "code",
   "execution_count": null,
   "id": "3882fc05-d1c6-4f1b-9017-884616925f91",
   "metadata": {},
   "outputs": [],
   "source": [
    "\\bibliographystyle{apacite}\n",
    "\\bibliography{WS_LaTeX} % Copy you BibTex library (.bib file) to the same folder of the .tex file and indicate here the filename without the .bib extension"
   ]
  },
  {
   "cell_type": "markdown",
   "id": "51108d53-9428-45e9-b4f8-23c880b3e882",
   "metadata": {},
   "source": [
    "##### 5.1.3.2. Feche e regarregue o documento\n",
    "Este procedimento força o documento a reconhecer o arquivo de bibliografia"
   ]
  },
  {
   "cell_type": "markdown",
   "id": "5c32e4be-2f84-4f99-add9-79c2f2782031",
   "metadata": {},
   "source": [
    "##### 5.1.3.3. Compile o documento"
   ]
  },
  {
   "cell_type": "markdown",
   "id": "294e2631-3c5f-4874-bf1a-8aede7aa7941",
   "metadata": {},
   "source": [
    "#### 5.1.4. Clique sobre o arquivo 'WS_Latex.bib' agora contido no projeto e explore-o"
   ]
  },
  {
   "cell_type": "markdown",
   "id": "245c52b1-f15b-4491-a0b3-f50bdd6756f9",
   "metadata": {},
   "source": [
    "Note o citekey 'berber_sardinha_deus_2023'. Ele deve ser único no arquivo todo."
   ]
  },
  {
   "cell_type": "code",
   "execution_count": null,
   "id": "966ce567-3f24-490d-baf3-3b7dab6247ea",
   "metadata": {},
   "outputs": [],
   "source": [
    "@phdthesis{berber_sardinha_deus_2023,\n",
    "\taddress = {São Paulo},\n",
    "\ttype = {Final report},\n",
    "\ttitle = {Deus, {Pátria} e {Família}: {Os} discursos bolsonaristas na rede social {Twitter} [{God}, homeland and family: {Bolsonarista} discourses on the {Twitter} social network]},\n",
    "\tschool = {Pontifical Catholic University of São Paulo (PUC-SP)},\n",
    "\tauthor = {Berber Sardinha, Tony and Ferreira Perriraz, Mabel Maheus},\n",
    "\tyear = {2023},\n",
    "}\n"
   ]
  },
  {
   "cell_type": "markdown",
   "id": "2b8d6a63-323a-4dcd-ad92-b2e90b408b3c",
   "metadata": {},
   "source": [
    "## 6. Formato de apresentação"
   ]
  },
  {
   "cell_type": "markdown",
   "id": "8ad5e481-4880-4843-8cc7-cb33418f63bd",
   "metadata": {},
   "source": [
    "### 6.1. Baixe o arquivo 'Oficina-de-LaTeX-Apresentação.zip'"
   ]
  },
  {
   "cell_type": "markdown",
   "id": "458959f3-4d61-4a6d-b786-ebf879a32309",
   "metadata": {},
   "source": [
    "[Oficina-de-LaTeX-Apresentação](https://laelgelclatexws.s3.sa-east-1.amazonaws.com/Oficina-de-LaTeX-Apresenta%C3%A7%C3%A3o.zip)"
   ]
  },
  {
   "cell_type": "markdown",
   "id": "089f2a6e-7024-48be-8422-c9006ba403f0",
   "metadata": {},
   "source": [
    "### 6.2. Carregue o arquivo 'Oficina-de-LaTeX-Apresentação.zip' no Overleaf e compile-o"
   ]
  },
  {
   "cell_type": "markdown",
   "id": "b2b91e35-f286-4199-8b21-200b9073305d",
   "metadata": {},
   "source": [
    "- Ajuste o título para 'Oficina de LaTeX'\n",
    "- Ajuste o autor para 'GELC'\n",
    "- Ajuste os nomes da equipe para 'Huguinho, Zezinho e Luisinho'"
   ]
  },
  {
   "cell_type": "markdown",
   "id": "89de5688-ba58-46a9-9d9b-14a7b5ec712d",
   "metadata": {},
   "source": [
    "Nota: Esta forma de carga pode ser utilizada para carregar em sua conta Overleaf os documentos disponíveis no [Banco de modelos](https://1drv.ms/f/s!AkJfqVKkVEiigQPu_CZgbPgBuWCI?e=htzpwg)."
   ]
  },
  {
   "cell_type": "markdown",
   "id": "0138275c-dc3c-4970-960a-61c59d1d44e7",
   "metadata": {},
   "source": [
    "## 7. Visão geral dos estilos APA e ABNT"
   ]
  },
  {
   "cell_type": "markdown",
   "id": "0acf30ec-6437-4579-8e71-8cb6dc2aac3e",
   "metadata": {},
   "source": [
    "### 7.1. Volte ao documento 'Oficina-de-LaTeX-Artigo', adicione algum texto com o comando '\\blindtext e compile-o"
   ]
  },
  {
   "cell_type": "code",
   "execution_count": null,
   "id": "aef89184-372f-4326-8f7c-f0c622a9b0ee",
   "metadata": {},
   "outputs": [],
   "source": [
    "\\begin{abstract}\n",
    "    \\blindtext\n",
    "\\end{abstract}\n",
    "\n",
    "\\section{Introduction}\n",
    "\n",
    "According to \\cite{berber_sardinha_deus_2023}, \\blindtext\n",
    "\\blindtext\n",
    "\\blindtext\n",
    "\\blindtext\n"
   ]
  },
  {
   "cell_type": "markdown",
   "id": "ff39d369-f3b9-4360-b90a-422964ed1fbe",
   "metadata": {},
   "source": [
    "### 7.2. Separe os parágrafos com uma linha em branco e recompile o documento"
   ]
  },
  {
   "cell_type": "code",
   "execution_count": null,
   "id": "682916d3-7a19-4ffc-a914-ec822f8200b4",
   "metadata": {},
   "outputs": [],
   "source": [
    "\\begin{abstract}\n",
    "    \\blindtext\n",
    "\\end{abstract}\n",
    "\n",
    "\\section{Introduction}\n",
    "\n",
    "According to \\cite{berber_sardinha_deus_2023}, \\blindtext\n",
    "\n",
    "\\blindtext\n",
    "\n",
    "\\blindtext\n",
    "\n",
    "\\blindtext\n"
   ]
  },
  {
   "cell_type": "markdown",
   "id": "5dad546d-4a15-492c-8b31-843dd38879e8",
   "metadata": {},
   "source": [
    "### 7.3. Note o estilo de referência APA"
   ]
  },
  {
   "cell_type": "markdown",
   "id": "316a2365-b52f-484d-af2d-d27e9b4c5239",
   "metadata": {},
   "source": [
    "Berber Sardinha, T., & Ferreira Perriraz, M. M. (2023). Deus, Pátria e Família: Os discursos bolsonaristas na rede social Twitter [God, homeland and family: Bolsonarista discourses on the Twitter social network] (Final report). Pontifical Catholic University of São Paulo (PUC-SP), São Paulo."
   ]
  },
  {
   "cell_type": "markdown",
   "id": "cc2f379a-499a-4d95-b14f-26a46953d601",
   "metadata": {},
   "source": [
    "### 7.4. Insira o seguinte código no documento, recompile-o e compare os estilos de citação APA\n",
    "Não se preocupe com os detalhes de composição da tabela neste momento"
   ]
  },
  {
   "cell_type": "code",
   "execution_count": null,
   "id": "6a5a3b73-6cf4-4a99-81c3-2dccbb5c566a",
   "metadata": {},
   "outputs": [],
   "source": [
    "\\begin{table}[htbp]\n",
    "%    \\centering\n",
    "    \\captionsetup{justification = raggedright, singlelinecheck = false}\n",
    "    \\caption{Estilo de citação APA}\n",
    "    \\label{Tabela 2}\n",
    "    \\begin{tabular}{ |l|l| }\n",
    "        \\hline\n",
    "        \\textbf{Comando} & \\textbf{Citação} \\\\\n",
    "        \\hline\n",
    "        $\\backslash$cite\\{berber\\_sardinha\\_deus\\_2023\\} & \\cite{berber_sardinha_deus_2023} \\\\\n",
    "        \\hline\n",
    "        $\\backslash$cite[p.$\\sim$100]\\{berber\\_sardinha\\_deus\\_2023\\} & \\cite[p.~100]{berber_sardinha_deus_2023} \\\\\n",
    "        \\hline\n",
    "        $\\backslash$citet\\{berber\\_sardinha\\_deus\\_2023\\} & \\citet{berber_sardinha_deus_2023} \\\\\n",
    "        \\hline\n",
    "        $\\backslash$citet[p.$\\sim$100]\\{berber\\_sardinha\\_deus\\_2023\\} & \\citet[p.~100]{berber_sardinha_deus_2023} \\\\\n",
    "        \\hline\n",
    "        $\\backslash$citep\\{berber\\_sardinha\\_deus\\_2023\\} & \\citep{berber_sardinha_deus_2023} \\\\\n",
    "        \\hline\n",
    "        $\\backslash$citep[p.$\\sim$100]\\{berber\\_sardinha\\_deus\\_2023\\} & \\citep[p.~100]{berber_sardinha_deus_2023} \\\\\n",
    "        \\hline\n",
    "    \\end{tabular}\n",
    "    \\caption*{Fonte: Fonte do autor}\n",
    "\\end{table}\n"
   ]
  },
  {
   "cell_type": "markdown",
   "id": "91a49b0b-ef6e-4d39-a311-4706936e7275",
   "metadata": {},
   "source": [
    "#### 7.4.1. Remova o código antes de prosseguir"
   ]
  },
  {
   "cell_type": "markdown",
   "id": "03a6f9b5-e60a-4630-9bc5-9c3b092254ed",
   "metadata": {},
   "source": [
    "### 7.5. Alterne para o estilo ABNT"
   ]
  },
  {
   "cell_type": "markdown",
   "id": "2d158122-39cd-49f5-a817-d249507f785f",
   "metadata": {},
   "source": [
    "#### 7.5.1. No preâmbulo"
   ]
  },
  {
   "cell_type": "markdown",
   "id": "d2854c91-f634-4f7a-84ce-202a755d4da1",
   "metadata": {},
   "source": [
    "Comente o pacote 'apacite' e descomente o pacote 'abntex2cite'"
   ]
  },
  {
   "cell_type": "code",
   "execution_count": null,
   "id": "a3a4af3f-cd44-46fa-bee1-54a63271a9c8",
   "metadata": {},
   "outputs": [],
   "source": [
    "\\usepackage[natbibapa]{apacite} % Use it to enable APA style\n",
    "%\\usepackage[alf]{abntex2cite} % Use it to enable ABNT style\n"
   ]
  },
  {
   "cell_type": "code",
   "execution_count": null,
   "id": "87a2849f-9fe1-4900-8e76-793f65962784",
   "metadata": {},
   "outputs": [],
   "source": [
    "%\\usepackage[natbibapa]{apacite} % Use it to enable APA style\n",
    "\\usepackage[alf]{abntex2cite} % Use it to enable ABNT style\n"
   ]
  },
  {
   "cell_type": "markdown",
   "id": "2b17b7c5-b1bf-4662-8573-dd9773f7e121",
   "metadata": {},
   "source": [
    "#### 7.5.2. No ambiente do documento"
   ]
  },
  {
   "cell_type": "markdown",
   "id": "af8211cf-59a3-4444-94d0-238d5b69904b",
   "metadata": {},
   "source": [
    "Comente o comando '\\\\bibliographystyle{apacite}'"
   ]
  },
  {
   "cell_type": "code",
   "execution_count": null,
   "id": "0be460be-97f7-48f5-ab3e-1bdfbf6ebca4",
   "metadata": {},
   "outputs": [],
   "source": [
    "\\bibliographystyle{apacite}\n"
   ]
  },
  {
   "cell_type": "code",
   "execution_count": null,
   "id": "dcdc5352-66e4-4a49-a6ea-d33b36c6ff2a",
   "metadata": {},
   "outputs": [],
   "source": [
    "%\\bibliographystyle{apacite}\n"
   ]
  },
  {
   "cell_type": "markdown",
   "id": "917d7f46-64e3-4f99-9a0d-3c6dc952a1ab",
   "metadata": {},
   "source": [
    "### 7.6. Note o estilo de referência ABNT"
   ]
  },
  {
   "cell_type": "markdown",
   "id": "8faaf5da-5e9c-45a3-9d87-cd541b5e326b",
   "metadata": {},
   "source": [
    "SARDINHA, T. B.; PERRIRAZ, M. M. F. Deus, Pátria e Família: Os discursos bolsonaristas na rede social Twitter [God, homeland and family: Bolsonarista discourses on the Twitter social network]. Tese (Final report) — Pontifical Catholic University of São Paulo (PUC-SP), São Paulo, 2023."
   ]
  },
  {
   "cell_type": "markdown",
   "id": "fae96dd5-e562-4195-a72d-4fcf76fcb414",
   "metadata": {},
   "source": [
    "### 7.7. Insira o seguinte código no documento, recompile-o e compare os estilos de citação ABNT\n",
    "Não se preocupe com os detalhes de composição da tabela neste momento"
   ]
  },
  {
   "cell_type": "code",
   "execution_count": null,
   "id": "0a33545e-cbee-40a4-a307-39eb720064d4",
   "metadata": {},
   "outputs": [],
   "source": [
    "\\begin{table}[htbp]\n",
    "%    \\centering\n",
    "    \\captionsetup{justification = raggedright, singlelinecheck = false}\n",
    "    \\caption{Estilo de citação ABNT}\n",
    "    \\label{Tabela 2}\n",
    "    \\begin{tabular}{ |l|l| }\n",
    "        \\hline\n",
    "        \\textbf{Comando} & \\textbf{Citação} \\\\\n",
    "        \\hline\n",
    "        $\\backslash$cite\\{berber\\_sardinha\\_deus\\_2023\\} & \\cite{berber_sardinha_deus_2023} \\\\\n",
    "        \\hline\n",
    "        $\\backslash$cite[p.$\\sim$100]\\{berber\\_sardinha\\_deus\\_2023\\} & \\cite[p.~100]{berber_sardinha_deus_2023} \\\\\n",
    "        \\hline\n",
    "        $\\backslash$citeonline\\{berber\\_sardinha\\_deus\\_2023\\} & \\citeonline{berber_sardinha_deus_2023} \\\\\n",
    "        \\hline\n",
    "        $\\backslash$citeonline[p.$\\sim$100]\\{berber\\_sardinha\\_deus\\_2023\\} & \\citeonline[p.~100]{berber_sardinha_deus_2023} \\\\\n",
    "        \\hline\n",
    "    \\end{tabular}\n",
    "    \\caption*{Fonte: Fonte do autor}\n",
    "\\end{table}\n"
   ]
  },
  {
   "cell_type": "markdown",
   "id": "e05cde1d-2da3-4a05-a9ae-9aa8d05911ce",
   "metadata": {},
   "source": [
    "## 8. Suporte multilíngue (babel)"
   ]
  },
  {
   "cell_type": "markdown",
   "id": "5847290e-5d00-4102-9088-3bfdbdb63ec6",
   "metadata": {},
   "source": [
    "### 8.1. Note que os títulos do 'Resumo' e 'Referências' estão em inglês"
   ]
  },
  {
   "cell_type": "markdown",
   "id": "791ae179-0112-4ccc-a3f2-4f3cf4c92279",
   "metadata": {},
   "source": [
    "### 8.2. Ative o pacote 'babel' para o estilo brasileiro"
   ]
  },
  {
   "cell_type": "markdown",
   "id": "1ee04d22-269c-4c60-90fb-e14a6921db31",
   "metadata": {},
   "source": [
    "#### 8.2.1. No preâmbulo"
   ]
  },
  {
   "cell_type": "markdown",
   "id": "74354755-f978-45b7-ac6c-a92d5fac7c7e",
   "metadata": {},
   "source": [
    "Descomente o pacote 'babel'"
   ]
  },
  {
   "cell_type": "code",
   "execution_count": null,
   "id": "a7f40b71-3a14-4cd2-923a-0eaf54bdd7a3",
   "metadata": {},
   "outputs": [],
   "source": [
    "%\\usepackage[brazilian]{babel} % Sets multilingual support to 'brazilian'\n"
   ]
  },
  {
   "cell_type": "code",
   "execution_count": null,
   "id": "4de9375d-45cd-4c6e-8467-d08ae65b7dbb",
   "metadata": {},
   "outputs": [],
   "source": [
    "\\usepackage[brazilian]{babel} % Sets multilingual support to 'brazilian'\n"
   ]
  },
  {
   "cell_type": "markdown",
   "id": "87139511-ff07-477e-b95e-47a3b648c06b",
   "metadata": {},
   "source": [
    "### 8.3. Note que os títulos do 'Resumo' e 'Referências' estão em português"
   ]
  },
  {
   "cell_type": "markdown",
   "id": "8b00b802-9c9b-4465-b5cb-19d4cbf33bbe",
   "metadata": {},
   "source": [
    "### 8.4. Traduza todas as seções para o português"
   ]
  },
  {
   "cell_type": "markdown",
   "id": "63c7e0c8-4db8-4d1f-b503-6f2d8f852584",
   "metadata": {},
   "source": [
    "#### 8.5. No ambiente do documento"
   ]
  },
  {
   "cell_type": "code",
   "execution_count": null,
   "id": "01b71207-be86-416f-a1b4-cf15c917ad4c",
   "metadata": {},
   "outputs": [],
   "source": [
    "\\section{Introduction}\n",
    "\n",
    "\\section{Literature review}\n",
    "\n",
    "\\section{Methods}\n",
    "\n",
    "\\section{Analysis and discussion of results}\n",
    "\n",
    "\\section{Final considerations}\n"
   ]
  },
  {
   "cell_type": "code",
   "execution_count": null,
   "id": "eaaf75b0-fa92-4816-a1c5-34123dadb1b0",
   "metadata": {},
   "outputs": [],
   "source": [
    "\\section{Introdução}\n",
    "\n",
    "\\section{Revisão de literatura}\n",
    "\n",
    "\\section{Metodologia}\n",
    "\n",
    "\\section{Análise e discussão de resultados}\n",
    "\n",
    "\\section{Considerações finais}\n"
   ]
  },
  {
   "cell_type": "markdown",
   "id": "7bfeae4e-62b2-4d3a-aaa8-1d6d4c3b30d0",
   "metadata": {},
   "source": [
    "## 9. Citações e notas de rodapé"
   ]
  },
  {
   "cell_type": "markdown",
   "id": "a0ad3818-c353-4dc4-9645-a365291e6783",
   "metadata": {},
   "source": [
    "### 9.1. Restaure o documento às suas configurações iniciais"
   ]
  },
  {
   "cell_type": "markdown",
   "id": "6a079db9-b8ac-4237-8d57-96d4d57a6eb7",
   "metadata": {},
   "source": [
    "Sobrescreva todo o código do documento pelo seguinte e compile-o"
   ]
  },
  {
   "cell_type": "code",
   "execution_count": null,
   "id": "73722174-8b4f-47c0-a592-1de414665ad7",
   "metadata": {},
   "outputs": [],
   "source": [
    "\\documentclass{article}\n",
    "%\\usepackage{graphicx} % Required for inserting images\n",
    "\\usepackage{tikz} % Enable TikZ graphic elements package\n",
    " \\tikzset{>=latex}\n",
    "\\usepackage{geometry} % Defines the page setup\n",
    " \\geometry{\n",
    " a4paper,\n",
    " total={160mm, 247mm},\n",
    " left=30mm,\n",
    " top=30mm}\n",
    "%\\usepackage{showframe} % Use it to check the document's page setup\n",
    "\\usepackage{blindtext} % Use it to generate text to help check the document's page setup\n",
    "\\usepackage[natbibapa]{apacite} % Use it to enable APA style\n",
    "%\\usepackage[alf]{abntex2cite} % Use it to enable ABNT style\n",
    "\\usepackage{url} % Allows URLs to be clickable\n",
    "\\usepackage[utf8]{inputenc} % Sets the document encoding to UTF8\n",
    "\\renewcommand{\\rmdefault}{\\sfdefault} % Changes to sans serif typeface\n",
    "%\\usepackage[brazilian]{babel} % Sets multilingual support to 'brazilian'\n",
    "\\usepackage{caption} % Enables better management of captions\n",
    "\\usepackage{float} % Enables better management of floating objects\n",
    "\\usepackage{multirow} % Enables the combination of rows and columns in tables\n",
    "\n",
    "\\title{Article - Template}\n",
    "\\author{Name Surname} % Your name here\n",
    "%\\date{August 2023}\n",
    "\n",
    "\\begin{document}\n",
    "\n",
    "\\maketitle\n",
    "\n",
    "\\begin{abstract}\n",
    "    abstract\n",
    "\\end{abstract}\n",
    "\n",
    "\\section{Introduction}\n",
    "\n",
    "According to \\cite{berber_sardinha_deus_2023}\n",
    "\n",
    "\\section{Literature review}\n",
    "\n",
    "\\section{Methods}\n",
    "\n",
    "\\section{Analysis and discussion of results}\n",
    "\n",
    "\\section{Final considerations}\n",
    "\n",
    "\\bibliographystyle{apacite}\n",
    "\\bibliography{WS_LaTeX} % Copy you BibTex library (.bib file) to the same folder of the .tex file and indicate here the filename without the .bib extension\n",
    "\n",
    "\\end{document}\n"
   ]
  },
  {
   "cell_type": "markdown",
   "id": "22644714-8bcd-4fd3-b767-58b28ffa8b4f",
   "metadata": {},
   "source": [
    "### 9.2. Explore os diversos comandos de citação utilizando a funcionalidade de sugestão automática de sintaxe de comandos"
   ]
  },
  {
   "cell_type": "markdown",
   "id": "265d9417-0452-4f35-b1ca-89c1eb7d410c",
   "metadata": {},
   "source": [
    "Pratique o uso da funcionalidade de sugestão automática de sintaxe de comandos utilizando somente Tab e Setas (evite perder tempo com cliques de mouse). Note que esta funcionalidade indica o pacote LaTeX a que o comando pertence."
   ]
  },
  {
   "cell_type": "code",
   "execution_count": null,
   "id": "577eaf93-df9e-4f7e-9c43-c9cb3d14fd39",
   "metadata": {},
   "outputs": [],
   "source": [
    "\\citet{berber_sardinha_deus_2023}\n"
   ]
  },
  {
   "cell_type": "markdown",
   "id": "abeea92c-72ed-4a69-b1f4-03d62a5872eb",
   "metadata": {},
   "source": [
    "### 9.3. Insira o seguinte código no documento, recompile-o e explore-o. Este é um exemplo combinando citações, notas de rodapé e lista numerada (as referências são fictícias)"
   ]
  },
  {
   "cell_type": "code",
   "execution_count": null,
   "id": "fefc73ed-d65e-43f3-a63c-e0b74c66e43a",
   "metadata": {},
   "outputs": [],
   "source": [
    "\\blindtext[2]\n",
    "\n",
    "\\citet[p.~823]{biber_what_2023} argumentam que os registros podem ser definidos por suas características situacionais (por exemplo, informalidade, oralidade, etc.) e linguísticas:\n",
    "\n",
    "\\begin{quote}\n",
    "    Embora os registros sejam definidos em termos situacionais, eles também podem ser comparados com relação às suas características linguísticas: o estudo da variação de registro. A variação de registro é inerente à linguagem humana: um certo falante fará escolhas sistemáticas de pronúncia, morfologia, escolha de palavras e gramática, refletindo uma série de fatores situacionais.\\footnote{Although registers are defined in situational terms, they can also be compared with respect to their linguistic characteristics: the study of register variation. Register variation is inherent in human language: a single speaker will make systematic choices in pronunciation, morphology, word choice, and grammar reflecting a range of situational factors.} \\citep[p.~823, tradução nossa]{biber_what_2023}\n",
    "\\end{quote}\n",
    "\n",
    "Uma AMD completa compreende oito etapas metodológicas \\citep[p.~825-826, tradução nossa]{biber_variation_1988}:\n",
    "\n",
    "\\begin{enumerate}\n",
    "    \\item Um \\textit{corpus} apropriado é projetado com base em pesquisas e análises anteriores. Os textos são coletados, transcritos (no caso de textos falados) e inseridos no computador;\n",
    "    \\item A pesquisa é realizada para identificar os traços linguísticos a serem incluídos na análise, juntamente com as associações funcionais dos traços linguísticos;\n",
    "    \\item Os programas de computador são desenvolvidos para análise gramatical automatizada, para identificar ou 'marcar' todos os recursos linguísticos relevantes em textos;\n",
    "    \\item Todo o \\textit{corpus} de textos é etiquetado automaticamente por computador, e todos os textos são editados interativamente para garantir que os recursos linguísticos sejam identificados com precisão;\n",
    "    \\item Programas de computador adicionais são desenvolvidos e executados para computar contagens de frequência normalizadas de cada recurso linguístico em cada texto do \\textit{corpus};\n",
    "    \\item Os padrões de co-ocorrência entre traços linguísticos são identificados através de uma análise fatorial das contagens de frequência;\n",
    "    \\item Os “fatores” da análise fatorial são interpretados funcionalmente como dimensões subjacentes de variação;\n",
    "    \\item Os escores de dimensão para cada texto são calculados; os escores médios das dimensões para cada registro são então comparados para analisar as semelhanças e diferenças linguísticas salientes entre os registros.\n",
    "    \\footnote{\n",
    "    \\begin{enumerate}\n",
    "        \\item An appropriate corpus is designed based on previous research and analysis. Texts are collected, transcribed (in the case of spoken texts), and input into the computer;\n",
    "        \\item Research is conducted to identify the linguistic features to be included in the analysis, together with functional associations of the linguistic features;\n",
    "        \\item Computer programs are developed for automated grammatical analysis, to identify or ‘tag’ all relevant linguistic features in texts;\n",
    "        \\item The entire corpus of texts is tagged automatically by computer, and all texts are edited interactively to ensure that the linguistic features are accurately identified;\n",
    "        \\item Additional computer programs are developed and run to compute normed frequency counts of each linguistic feature in each text of the corpus;\n",
    "        \\item The co-occurrence patterns among linguistic features are identified through a factor analysis of the frequency counts;\n",
    "        \\item The ‘factors’ from the factor analysis are interpreted functionally as underlying dimensions of variation;\n",
    "        \\item Dimension scores for each text are computed; the mean dimension scores for each register are then compared to analyse the salient linguistic similarities and differences among registers.\n",
    "    \\end{enumerate}\n",
    "    }\n",
    "\\end{enumerate}\n"
   ]
  },
  {
   "cell_type": "markdown",
   "id": "1d67acf2-75cf-4d1d-93e3-82aee04b7cc7",
   "metadata": {},
   "source": [
    "### 9.4. Insira o seguinte código no documento, recompile-o e explore-o. Este é um exemplo que sugere como expressar um 'apud' (as referências são fictícias)"
   ]
  },
  {
   "cell_type": "code",
   "execution_count": null,
   "id": "0aff1ed7-a731-4765-9a84-d49d6a1a573b",
   "metadata": {},
   "outputs": [],
   "source": [
    "A pesquisa em Linguística de \\textit{Corpus} requer um design e preparação de \\textit{corpora} criteriosos. \\citet[p.~8-9]{sanchez_cumbre_1995}\\citep[\\textit{apud}][p.~338]{berber_sardinha_linguistica_2018} define um \\textit{corpus} como\n",
    "\n",
    "\\begin{quote}\n",
    "    Um conjunto de dados linguísticos (pertencentes ao uso oral ou escrito da língua, ou a ambos), sistematizados segundo determinados critérios, suficientemente extensos em amplitude e profundidade, de maneira que sejam representativos da totalidade do uso linguístico ou de algum de seus âmbitos, dispostos de tal modo que possam ser processados por computador, com a finalidade de propiciar resultados vários e úteis para a descrição e análise. \\citep[p.~8-9]{sanchez_cumbre_1995}\\citep[\\textit{apud}][p.~338]{berber_sardinha_linguistica_2018}\n",
    "\\end{quote}\n"
   ]
  },
  {
   "cell_type": "markdown",
   "id": "3620c5e2-6a67-4d0c-8137-9a09e4bb38fc",
   "metadata": {},
   "source": [
    "Notas:\n",
    " - Esta forma de representação não está em conformidade com a correspondente norma da ABNT. Durante a sessão, discutimos se haveria forma contornar esse problema. Carlos Kauffmann comentou que, nesses casos, a citação deveria ser realizada manualmente\n",
    " - Uma consulta ao ChatGPT ('Hi! I am trying to figure out how to code 'apud' in LaTeX, APA style. Have you got a clue?') resultou em uma sugestão de utilizar uma forma semelhante à apresentada na tarefa somente substituindo o argumento '[\\textit{apud}]' por '[as cited in]'"
   ]
  },
  {
   "cell_type": "markdown",
   "id": "2160e30b-833f-41a5-8e94-d1c02eae6628",
   "metadata": {},
   "source": [
    "## 10. Tabelas"
   ]
  },
  {
   "cell_type": "markdown",
   "id": "c17e4484-402a-492a-8b2c-ef0a2aafafeb",
   "metadata": {},
   "source": [
    "No LaTeX, tabelas são elementos flutuantes, ou seja, seu posicionamento no documento é realizada pelo sistema segundo uma lógica de posicionamento ótimo. Entretanto, o autor pode influenciar essa lógica através de argumentos opcionais, conforme veremos a seguir.\n",
    "\n",
    "Uma tabela é um ambiente constituído basicamente dos seguintes componentes:\n",
    "- Tabular\n",
    "- Caption\n",
    "- Label"
   ]
  },
  {
   "cell_type": "markdown",
   "id": "e122f385-5396-43e4-b626-655c05e64848",
   "metadata": {},
   "source": [
    "### 10.1. Insira no documento uma tabela 5 x 4 utilizando a ferramenta de tabelas do Overleaf e compile-o"
   ]
  },
  {
   "cell_type": "markdown",
   "id": "7c572f46-b4d5-4aa9-9afc-76f3ceafc9f4",
   "metadata": {},
   "source": [
    "Note a lógica de representação de linhas e colunas."
   ]
  },
  {
   "cell_type": "code",
   "execution_count": null,
   "id": "b71cdf9f-3db4-41fe-a335-58768fb6f94e",
   "metadata": {},
   "outputs": [],
   "source": [
    "\\blindtext[2]\n",
    "\n",
    "\\begin{table}\n",
    "    \\centering\n",
    "    \\begin{tabular}{cccc}\n",
    "         &  &  & \\\\\n",
    "         &  &  & \\\\\n",
    "         &  &  & \\\\\n",
    "         &  &  & \\\\\n",
    "         &  &  & \\\\\n",
    "    \\end{tabular}\n",
    "    \\caption{Caption}\n",
    "    \\label{tab:my_label}\n",
    "\\end{table}\n"
   ]
  },
  {
   "cell_type": "markdown",
   "id": "7863c26e-b963-49e4-9cfd-ecf9ac14ddbf",
   "metadata": {},
   "source": [
    "### 10.2. Preencha a tabela com alguns dados e compile o documento"
   ]
  },
  {
   "cell_type": "code",
   "execution_count": null,
   "id": "5671d5c3-a92e-4b66-a023-0dbd4b86308a",
   "metadata": {},
   "outputs": [],
   "source": [
    "\\blindtext[2]\n",
    "\n",
    "\\begin{table}\n",
    "    \\centering\n",
    "    \\begin{tabular}{cccc}\n",
    "        \\textbf{Origem} & \\textbf{Período} & \\textbf{Textos} & \\textbf{Número de palavras} \\\\\n",
    "        Autores de ERPP 1 & 2/2023 & 40 & 54,000 \\\\\n",
    "        Autores de ERPP 2 & 1/2024 & 40 & 54,000 \\\\\n",
    "        Autores de ERPP 3 & 2/2024 & 40 & 54,000 \\\\\n",
    "         & & 120 & 162,000 \\\\\n",
    "    \\end{tabular}\n",
    "    \\caption{Caption}\n",
    "    \\label{tab:my_label}\n",
    "\\end{table}\n"
   ]
  },
  {
   "cell_type": "markdown",
   "id": "e3e9d989-6cab-4d48-8e2b-542b0dc34990",
   "metadata": {},
   "source": [
    "### 10.3. Insira o seguinte código no documento, recompile-o e explore-o"
   ]
  },
  {
   "cell_type": "markdown",
   "id": "cecd682a-5694-4980-89ed-bb5750280975",
   "metadata": {},
   "source": [
    "Note:\n",
    " - os argumentos opcionais [htbp]\n",
    " - que esta é uma tabela no estilo ABNT que utiliza o pacote 'caption'\n",
    " - o uso do comando '\\ref' para referir-se ao label 'Tabela 2'\n",
    " - a função do caracter reservado '\\*' no comando '\\caption*{Fonte: Fonte do autor\n",
    "\n",
    "Busque na Internet 'overleaf tables' e, na página encontrada, refira-se à seção 'Positioning tables'."
   ]
  },
  {
   "cell_type": "code",
   "execution_count": null,
   "id": "b0b1b2b0-090c-4009-b4e9-ffeff6d518cc",
   "metadata": {},
   "outputs": [],
   "source": [
    "\\blindtext[2]\n",
    "\n",
    "According to Table \\ref{Tabela 2}, ...\n",
    "\n",
    "\\begin{table}[htbp]\n",
    "%    \\centering\n",
    "    \\captionsetup{justification = raggedright, singlelinecheck = false}\n",
    "    \\caption{Tamanho estimado do \\textit{corpus} ALBP}\n",
    "    \\label{Tabela 2}\n",
    "    \\begin{tabular}{ |l|r|r|r| } \\hline\n",
    "        \\textbf{Origem} & \\textbf{Período} & \\textbf{Textos} & \\textbf{Número de palavras} \\\\ \\hline\n",
    "        Autores de ERPP 1 & 2/2023 & 40 & 54,000 \\\\ \\hline\n",
    "        Autores de ERPP 2 & 1/2024 & 40 & 54,000 \\\\ \\hline\n",
    "        Autores de ERPP 3 & 2/2024 & 40 & 54,000 \\\\ \\hline\n",
    "         & & 120 & 162,000 \\\\ \\hline\n",
    "    \\end{tabular}\n",
    "    \\caption*{Fonte: Fonte do autor}\n",
    "\\end{table}\n"
   ]
  },
  {
   "cell_type": "markdown",
   "id": "86601acc-e13a-469f-b631-b936aed9fc75",
   "metadata": {},
   "source": [
    "### 10.4. Insira o seguinte código no documento, recompile-o e explore-o (as referências são fictícias)"
   ]
  },
  {
   "cell_type": "markdown",
   "id": "5a16e4cc-6341-402d-b0bc-c69fa70dacca",
   "metadata": {},
   "source": [
    "Note:\n",
    " - como a funcionalidade 'multirow' funciona\n",
    " - a função do caracter reservado '\\*' no comando '\\multirow[t]{2}{*}{Autoria}'\n",
    "\n",
    "Busque na Internet 'overleaf tables' e, na página encontrada, refira-se à seção 'Combining rows and columns'.\n",
    "\n",
    "Busque na Internet 'latex multirow' e, na página '[Package multirow](https://ctan.org/pkg/multirow?lang=en)' em https://ctan.org, explore a documentação oficial do pacote."
   ]
  },
  {
   "cell_type": "code",
   "execution_count": null,
   "id": "965e4a34-e8cc-4c7f-99b3-58328a56702c",
   "metadata": {},
   "outputs": [],
   "source": [
    "\\blindtext[2]\n",
    "\n",
    "Refer to Table \\ref{Tabela 1}.\n",
    "\n",
    "\\begin{table}[htbp]\n",
    "%    \\centering\n",
    "    \\captionsetup{justification = raggedright, singlelinecheck = false}\n",
    "    \\caption{Design dos \\textit{corpora}}\n",
    "    \\label{Tabela 1}\n",
    "    \\begin{tabular}{ |l|l|p{8cm}| } \\hline\n",
    "         & \\textbf{Requisito} & \\textbf{Descrição} \\\\ \\hline\n",
    "        1 & \\multirow[t]{4}{*}{Origem} & ALPP: Trabalhos publicados em Linguística Aplicada \\\\\n",
    "         & & AI-ALPP: Trabalhos publicados em Linguística Aplicada revisados por IA \\\\\n",
    "         & & ALBP: Trabalhos de Linguística Aplicada Escritos por Autores Brasileiros \\\\\n",
    "         & & AI-ALBP: Trabalhos de Linguística Aplicada Escritos por Autores Brasileiros revisados por IA \\\\ \\hline\n",
    "        2 & Propósito & Estudo da variação de registro \\\\ \\hline\n",
    "        3 & Modo & Escrito \\\\ \\hline\n",
    "        4 & Tempo & Contemporâneo \\\\ \\hline\n",
    "        5 & Seleção & \\textit{Corpus} de amostragem \\\\ \\hline\n",
    "        6 & Conteúdo & Especializado: Inglês para Fins de Publicação Científica \\\\ \\hline\n",
    "        7 & \\multirow[t]{2}{*}{Autoria} & ALPP: Autores usuários de ERPP \\\\\n",
    "         & & ALBP: Pesquisadores brasileiros de Linguística Aplicada de um programa de pós-graduação de uma instituição de Ensino Superior \\\\ \\hline\n",
    "    \\end{tabular}\n",
    "    \\caption*{Fonte: Fonte do autor baseado em \\citet[p.~338-342]{berber_sardinha_deus_2023}}\n",
    "\\end{table}\n"
   ]
  },
  {
   "cell_type": "markdown",
   "id": "1809217a",
   "metadata": {},
   "source": [
    "### 10.5. Insira o seguinte código no preâmbulo do documento"
   ]
  },
  {
   "cell_type": "code",
   "execution_count": null,
   "id": "6149e4c4",
   "metadata": {},
   "outputs": [],
   "source": [
    "\\usepackage{longtable} % Enables multi-page tables\n"
   ]
  },
  {
   "cell_type": "markdown",
   "id": "46b8dd74",
   "metadata": {},
   "source": [
    "### 10.6. Insira o seguinte código no preâmbulo do documento. Refira-se à seção 'Pacote 'tipa' (TeX IPA - International Phonetic Alphabet)'"
   ]
  },
  {
   "cell_type": "code",
   "execution_count": null,
   "id": "2745f8cc",
   "metadata": {},
   "outputs": [],
   "source": [
    "\\usepackage{tipa} % Enables phonetic symbols (IPA)\n",
    "\\usepackage[T1]{fontenc} % Switch the font encoding to T1, which provides support for the “\\dh” command and other special characters\n"
   ]
  },
  {
   "cell_type": "markdown",
   "id": "e8752393",
   "metadata": {},
   "source": [
    "### 10.7. Insira o seguinte código no documento, recompile-o e explore-o (as referências são fictícias)"
   ]
  },
  {
   "cell_type": "markdown",
   "id": "16128f3e",
   "metadata": {},
   "source": [
    "Note como o ambiente 'longtable' funciona."
   ]
  },
  {
   "cell_type": "code",
   "execution_count": null,
   "id": "e24625ac",
   "metadata": {},
   "outputs": [],
   "source": [
    "\\begin{longtable}[c]{ p{1cm} p{1cm} p{5cm} p{5cm} }\n",
    "    \\caption{English Phonemic List (UK)}\n",
    "    \\label{tab:en_phon_list} \\\\\n",
    "    Symbol & Symbol & Input 1 & Input 2 \\\\ \\hline\n",
    "    \\endfirsthead\n",
    "    \\textprimstress & \\textipa{\"} & $\\backslash$textprimstress & $\\backslash$textipa\\{\"\\} \\\\\n",
    "    \\textsecstress & \\textipa{\"\"} & $\\backslash$textsecstress & $\\backslash$textipa\\{\"\"\\} \\\\\n",
    "    i\\textlengthmark & \\textipa{i:} & i$\\backslash$textlengthmark & $\\backslash$textipa\\{i:\\} \\\\\n",
    "    \\textsci & \\textipa{I} & $\\backslash$textsci & $\\backslash$textipa\\{I\\} \\\\\n",
    "    \\textupsilon & \\textipa{U} & $\\backslash$textupsilon & $\\backslash$textipa\\{U\\} \\\\\n",
    "    u\\textlengthmark & \\textipa{u:} & u$\\backslash$textlengthmark & $\\backslash$textipa\\{u:\\} \\\\\n",
    "    e & e & e & e \\\\\n",
    "    \\textschwa & \\textipa{@} & $\\backslash$textschwa & $\\backslash$textipa\\{@\\} \\\\\n",
    "    \\textrevepsilon \\textlengthmark & \\textipa{3:} & $\\backslash$textrevepsilon $\\backslash$textlengthmark & $\\backslash$textipa\\{3:\\} \\\\\n",
    "    \\textopeno \\textlengthmark & \\textipa{O:} & $\\backslash$textopeno $\\backslash$textlengthmark & $\\backslash$textipa\\{O:\\} \\\\\n",
    "    \\ae & \\textipa{\\ae} & $\\backslash$ae & $\\backslash$textipa\\{$\\backslash$ae\\} \\\\\n",
    "    \\textturnv & \\textipa{2} & $\\backslash$textturnv & $\\backslash$textipa\\{2\\} \\\\\n",
    "    \\textscripta \\textlengthmark & \\textipa{\\textscripta:} & $\\backslash$textscripta $\\backslash$textlengthmark & $\\backslash$textipa\\{$\\backslash$textscripta:\\} \\\\\n",
    "    \\textturnscripta & \\textipa{6} & $\\backslash$textturnscripta & $\\backslash$textipa\\{6\\} \\\\\n",
    "    \\textsci \\textschwa & \\textipa{I@} & $\\backslash$textsci $\\backslash$textschwa & $\\backslash$textipa\\{I@\\} \\\\\n",
    "    e\\textsci & \\textipa{eI} & e$\\backslash$textsci & $\\backslash$textipa\\{eI\\} \\\\\n",
    "    \\textupsilon \\textschwa & \\textipa{U@} & $\\backslash$textupsilon $\\backslash$textschwa & $\\backslash$textipa\\{U@\\} \\\\\n",
    "    \\textopeno \\textsci & \\textipa{OI} & $\\backslash$textopeno $\\backslash$textsci & $\\backslash$textipa\\{OI\\} \\\\\n",
    "    \\textschwa \\textupsilon & \\textipa{@U} & $\\backslash$textschwa $\\backslash$textupsilon & $\\backslash$textipa\\{@U\\} \\\\\n",
    "    e\\textschwa & \\textipa{e@} & e$\\backslash$textschwa & $\\backslash$textipa\\{e@\\} \\\\\n",
    "    a\\textsci & \\textipa{aI} & a$\\backslash$textsci & $\\backslash$textipa\\{aI\\} \\\\\n",
    "    a\\textupsilon & \\textipa{aU} & a$\\backslash$textupsilon & $\\backslash$textipa\\{aU\\} \\\\\n",
    "    p & p & p & p \\\\\n",
    "    b & b & b & b \\\\\n",
    "    t & t & t & t \\\\\n",
    "    d & d & d & d \\\\\n",
    "    t\\textesh & \\textipa{tS} & t$\\backslash$textesh & $\\backslash$textipa\\{tS\\} \\\\\n",
    "    \\textdyoghlig & \\textipa{\\textdyoghlig} & $\\backslash$textdyoghlig & $\\backslash$textipa\\{$\\backslash$textdyoghlig\\} \\\\\n",
    "    k & k & k & k \\\\\n",
    "    \\textscriptg & \\textipa{g} & $\\backslash$textscriptg & $\\backslash$textipa\\{g\\} \\\\\n",
    "    f & f & f & f \\\\\n",
    "    v & v & v & v \\\\\n",
    "    \\texttheta & \\textipa{T} & $\\backslash$texttetha & $\\backslash$textipa\\{T\\} \\\\\n",
    "    \\dh & \\textipa{D} & $\\backslash$dh & $\\backslash$textipa\\{D\\} \\\\\n",
    "    s & s & s & s \\\\\n",
    "    z & z & z & z \\\\\n",
    "    \\textesh & \\textipa{S} & $\\backslash$textesh & $\\backslash$textipa\\{S\\} \\\\\n",
    "    \\textyogh & \\textipa{Z} & $\\backslash$textyough & $\\backslash$textipa\\{Z\\} \\\\\n",
    "    m & m & m & m \\\\\n",
    "    n & n & n & n \\\\\n",
    "    \\ng & \\textipa{N} & $\\backslash$ng & $\\backslash$textipa\\{N\\} \\\\\n",
    "    h & h & h & h \\\\\n",
    "    l & l & l & l \\\\\n",
    "    r & r & r & r \\\\\n",
    "    w & w & w & w \\\\\n",
    "    j & j & j & j \\\\\n",
    "    \\caption*{\\citet{berber_sardinha_deus_2023}}\n",
    "\\end{longtable}"
   ]
  },
  {
   "cell_type": "markdown",
   "id": "6db08d6e-4aca-4116-bad6-5f910df5992a",
   "metadata": {},
   "source": [
    "### 10.8. Examine o caso do documento 'Corpus Linguistics - GELC - Review - Rogério Yamada' que será mostrado pelo instrutor"
   ]
  },
  {
   "cell_type": "markdown",
   "id": "b4d44b8f-f7f2-4be2-8ace-838d0b76b306",
   "metadata": {},
   "source": [
    "Note o funcionamento do argumento opcional [H]."
   ]
  },
  {
   "cell_type": "markdown",
   "id": "8876ef33-567e-46bb-bc97-68f91874905d",
   "metadata": {},
   "source": [
    "## 11. Figuras"
   ]
  },
  {
   "cell_type": "markdown",
   "id": "2cdcca5c-79b6-4548-93bf-2c9f5f040d18",
   "metadata": {},
   "source": [
    "### 11.1. Baixe as figuras 'cresc_incr_ALBP.png' e 'cron_proj.png'\n",
    "- [cresc_incr_ALBP.png](https://laelgelclatexws.s3.sa-east-1.amazonaws.com/cresc_incr_ALBP.png)\n",
    "- [cron_proj.png](https://laelgelclatexws.s3.sa-east-1.amazonaws.com/cron_proj.png)"
   ]
  },
  {
   "cell_type": "markdown",
   "id": "ccec8ef6-eff8-4153-af31-77b83c18740a",
   "metadata": {},
   "source": [
    "### 11.2. Crie a pasta 'figures' no projeto e carregue nela as figuras"
   ]
  },
  {
   "cell_type": "markdown",
   "id": "e5eaedd0-8cd9-45e2-8bbe-abed1cfe9474",
   "metadata": {},
   "source": [
    "### 11.3. Insira o seguinte código no documento, recompile-o e explore-o"
   ]
  },
  {
   "cell_type": "markdown",
   "id": "e863b24d-289a-46ed-93b4-756d07f7b75b",
   "metadata": {},
   "source": [
    "Note:\n",
    " - que esta é uma figura no estilo ABNT que utiliza o pacote 'caption'\n",
    " - a declaração do caminho da figura no comando '\\includegraphics[width=\\textwidth]{figures/cresc_incr_ALBP.png}'"
   ]
  },
  {
   "cell_type": "code",
   "execution_count": null,
   "id": "3245d20e-dc96-4e7b-9905-549d93ab318b",
   "metadata": {},
   "outputs": [],
   "source": [
    "\\blindtext[2]\n",
    "\n",
    "Refer to Figure \\ref{fig:cresc_incr_ALBP}.\n",
    "\n",
    "\\begin{figure}[htbp]\n",
    "    \\centering\n",
    "    \\captionsetup{justification = raggedright, singlelinecheck = false}\n",
    "    \\caption{Crescimento incremental do \\textit{corpus} ALBP}\n",
    "    \\label{fig:cresc_incr_ALBP}\n",
    "    \\includegraphics[width=\\textwidth]{figures/cresc_incr_ALBP.png}\n",
    "    \\caption*{Fonte: Fonte do autor}\n",
    "\\end{figure}\n"
   ]
  },
  {
   "cell_type": "markdown",
   "id": "61425956-771c-4122-a3ba-c71b78e7b616",
   "metadata": {},
   "source": [
    "### 11.4. Insira o seguinte código no documento, recompile-o e explore-o"
   ]
  },
  {
   "cell_type": "code",
   "execution_count": null,
   "id": "c11f81a0-8e60-4836-9e59-ee54144db840",
   "metadata": {},
   "outputs": [],
   "source": [
    "\\blindtext[2]\n",
    "\n",
    "Refer to Figure \\ref{fig:cron_proj}.\n",
    "\n",
    "\\begin{figure}[htbp]\n",
    "    \\centering\n",
    "    \\captionsetup{justification = raggedright, singlelinecheck = false}\n",
    "    \\caption{Cronograma do projeto com o crescimento do \\textit{corpus} ALBP ao fundo}\n",
    "    \\label{fig:cron_proj}\n",
    "    \\includegraphics[width=\\textwidth]{figures/cron_proj.png}\n",
    "    \\caption*{Fonte: Fonte do autor}\n",
    "\\end{figure}\n"
   ]
  },
  {
   "cell_type": "markdown",
   "id": "ca8f3849-2eb0-4258-b8b9-5182dba5bc93",
   "metadata": {},
   "source": [
    "## 12. Diagramas"
   ]
  },
  {
   "cell_type": "markdown",
   "id": "b0371f24-94b7-4303-8e2b-260098bef5ec",
   "metadata": {},
   "source": [
    "TikZ é a ferramenta mais conhecida para criação de elementos gráficos em LaTeX. A rigor, ele é a camada de sintaxe do macro pacote PGF (Portable Graphic Format)."
   ]
  },
  {
   "cell_type": "markdown",
   "id": "4a6f7d97-2a9f-409a-b432-f7549a594c07",
   "metadata": {},
   "source": [
    "### 12.1. Crie a pasta 'input' no projeto"
   ]
  },
  {
   "cell_type": "markdown",
   "id": "1a758f5b-6fad-441a-98f6-1d7cb56a0b51",
   "metadata": {},
   "source": [
    "### 12.2. Na pasta 'input', crie o documento 'comm_purpose.tex' e insira o seguinte código nele"
   ]
  },
  {
   "cell_type": "code",
   "execution_count": null,
   "id": "77124df3-3e03-49d5-b238-417f1b3e061d",
   "metadata": {},
   "outputs": [],
   "source": [
    "\\begin{figure} [htbp]\n",
    "    \\centering\n",
    "    \\tikzstyle{block} = [rectangle, rounded corners, text=black, text centered, draw=black, font=\\footnotesize, minimum height=.21in, minimum width=.65in]\n",
    "    \\tikzstyle{line} = [-latex,draw=black,line width=.4]\n",
    "    \\tikzstyle{line2} = [latex-latex,draw=black,line width=.4]\n",
    "    \\tikzstyle{line3} = [-latex,draw=black,line width=.4,dotted]\n",
    "    \\tikzstyle{line4} = [latex-latex,draw=black,line width=.4,dotted]\n",
    "    \\begin{tikzpicture}\n",
    "      \\node[block,fill=green!50,text=black, minimum width=.7in] (cp) at (10,11) {Communicative Purpose};\n",
    "      \n",
    "      \\node[block,fill=blue!70,text=white, text width=.7in] (argu) at (7,9.4167) {Argue};\n",
    "      \\node[block,fill=blue!70,text=white, text width=.7in] (comp) at (10,9.4167) {Compare};\n",
    "      \\node[block,fill=blue!70,text=white, text width=.7in] (desc) at (13,9.4167) {Describe};\n",
    "      \n",
    "      \\node[block,fill=blue!70,text=white, text width=.7in] (expl) at (5.5,7.8333) {Explain};\n",
    "      \\node[block,fill=blue!70,text=white, text width=.7in] (p_ev) at (8.5,7.8333) {Personal Event};\n",
    "      \\node[block,fill=blue!70,text=white, text width=.7in] (pr_rec) at (11.5,7.8333) {Procedural Recount};\n",
    "      \\node[block,fill=blue!70,text=white, text width=.7in] (narr) at (14.5,7.8333) {Narrate};\n",
    "      \n",
    "      \\node[block,fill=blue!70,text=white, text width=.7in] (g_adv) at (7,6.25) {Give Advice};\n",
    "      \\node[block,fill=blue!70,text=white, text width=.7in] (ex_pos) at (13,6.25) {Express Possibility};\n",
    "      \n",
    "      \\draw[line] (cp) to [in=90,out=205] (argu);\n",
    "      \\draw[line] (cp) to [in=90,out=270] (comp);\n",
    "      \\draw[line] (cp) to [in=90,out=335] (desc);\n",
    "      \n",
    "      \\draw[line] (cp) to [in=90,out=180] (expl);\n",
    "      \\draw[line] (cp) to [in=90,out=230] (p_ev);\n",
    "      \\draw[line] (cp) to [in=90,out=310] (pr_rec);\n",
    "      \\draw[line] (cp) to [in=90,out=0] (narr);\n",
    "      \n",
    "      \\draw[line] (cp) to [in=180,out=180,looseness=2] (g_adv);\n",
    "      \\draw[line] (cp) to [in=0,out=0,looseness=2] (ex_pos);\n",
    "    \\end{tikzpicture}\n",
    "    \\caption{Communicative purpose framework}\n",
    "    \\label{fig:comm_purpose1}\n",
    "\\end{figure}\n"
   ]
  },
  {
   "cell_type": "markdown",
   "id": "fe16b6ed-d48f-462e-b50c-588d82692cfe",
   "metadata": {},
   "source": [
    "### 12.3. No documento principal 'main.tex', insira o seguinte código, recompile-o e explore-o (as referências são fictícias)"
   ]
  },
  {
   "cell_type": "markdown",
   "id": "a7eef869-e778-4ab6-842a-3ed1cbd7847f",
   "metadata": {},
   "source": [
    "Note o funcionamento do comando '\\input'."
   ]
  },
  {
   "cell_type": "code",
   "execution_count": null,
   "id": "0afb0dc3-419b-42d2-9327-40414696f487",
   "metadata": {},
   "outputs": [],
   "source": [
    "\\blindtext[2]\n",
    "\n",
    "\\citet[p.~6]{berber_sardinha_deus_2023} focused on variation within university student registers and reached the definition of a communicative purpose framework shown in Figure \\ref{fig:comm_purpose1}.\n",
    "\n",
    "\\input{input/comm_purpose}\n"
   ]
  },
  {
   "cell_type": "markdown",
   "id": "6aa06077-955d-4f18-8d08-a17f2efc7690",
   "metadata": {},
   "source": [
    "### 12.4. Recomendações gerais sobre composição de diagramas"
   ]
  },
  {
   "cell_type": "markdown",
   "id": "d804ee92-a6c4-47b1-84bc-f8ef5ce0bba7",
   "metadata": {},
   "source": [
    " - Refira-se à referência [PGF/TikZ Manual - Complete Online Documentation](https://tikz.dev/). Navegue a 'TikZ/Specifying Coordinates' e explore 'Coordinate system canvas'\n",
    " - Posicione o centro do diagrama na dimensão 'x = 10'\n",
    " - Posicione o nó mais alto na dimensão 'y = 10'\n",
    " - Eleja o nó mais ao alto e mais ao centro como referência de posição e posicione todos os outros nós em relação a ele\n",
    " - Ao desenhar as linhas de conexão com o comando '\\draw', refira-se ao 'Círculo completo de 360°' a seguir para determinar os ângulos de saída ('in') e entrada ('out')"
   ]
  },
  {
   "cell_type": "markdown",
   "id": "c0e375c3-4197-4cad-97c4-e7c5b78be283",
   "metadata": {},
   "source": [
    "<center>\n",
    "<img src=\"https://laelgelclatexws.s3.sa-east-1.amazonaws.com/degrees-360.png\" width=\"300\" alt=\"degrees-360\">\n",
    "<h4>Círculo completo de 360°</h4>\n",
    "</center>\n",
    "\n",
    "[Degrees (Angles)](https://www.mathsisfun.com/geometry/degrees.html)"
   ]
  },
  {
   "cell_type": "markdown",
   "id": "9a9bee8a-6d93-4270-b1db-d3d42dfab299",
   "metadata": {},
   "source": [
    "### 12.5. Abra o documento 'Oficina-de-LaTeX-Apresentação', crie a pasta 'input' e crie nela o mesmo documento 'comm_purpose' somente comentando o comando '\\caption{Communicative purpose framework}'"
   ]
  },
  {
   "cell_type": "code",
   "execution_count": null,
   "id": "46f824c6-2d23-4922-8d60-a9c6ada5b2dc",
   "metadata": {},
   "outputs": [],
   "source": [
    "\\begin{figure} [htbp]\n",
    "    \\centering\n",
    "    \\tikzstyle{block} = [rectangle, rounded corners, text=black, text centered, draw=black, font=\\footnotesize, minimum height=.21in, minimum width=.65in]\n",
    "    \\tikzstyle{line} = [-latex,draw=black,line width=.4]\n",
    "    \\tikzstyle{line2} = [latex-latex,draw=black,line width=.4]\n",
    "    \\tikzstyle{line3} = [-latex,draw=black,line width=.4,dotted]\n",
    "    \\tikzstyle{line4} = [latex-latex,draw=black,line width=.4,dotted]\n",
    "    \\begin{tikzpicture}\n",
    "      \\node[block,fill=green!50,text=black, minimum width=.7in] (cp) at (10,11) {Communicative Purpose};\n",
    "      \n",
    "      \\node[block,fill=blue!70,text=white, text width=.7in] (argu) at (7,9.4167) {Argue};\n",
    "      \\node[block,fill=blue!70,text=white, text width=.7in] (comp) at (10,9.4167) {Compare};\n",
    "      \\node[block,fill=blue!70,text=white, text width=.7in] (desc) at (13,9.4167) {Describe};\n",
    "      \n",
    "      \\node[block,fill=blue!70,text=white, text width=.7in] (expl) at (5.5,7.8333) {Explain};\n",
    "      \\node[block,fill=blue!70,text=white, text width=.7in] (p_ev) at (8.5,7.8333) {Personal Event};\n",
    "      \\node[block,fill=blue!70,text=white, text width=.7in] (pr_rec) at (11.5,7.8333) {Procedural Recount};\n",
    "      \\node[block,fill=blue!70,text=white, text width=.7in] (narr) at (14.5,7.8333) {Narrate};\n",
    "      \n",
    "      \\node[block,fill=blue!70,text=white, text width=.7in] (g_adv) at (7,6.25) {Give Advice};\n",
    "      \\node[block,fill=blue!70,text=white, text width=.7in] (ex_pos) at (13,6.25) {Express Possibility};\n",
    "      \n",
    "      \\draw[line] (cp) to [in=90,out=205] (argu);\n",
    "      \\draw[line] (cp) to [in=90,out=270] (comp);\n",
    "      \\draw[line] (cp) to [in=90,out=335] (desc);\n",
    "      \n",
    "      \\draw[line] (cp) to [in=90,out=180] (expl);\n",
    "      \\draw[line] (cp) to [in=90,out=230] (p_ev);\n",
    "      \\draw[line] (cp) to [in=90,out=310] (pr_rec);\n",
    "      \\draw[line] (cp) to [in=90,out=0] (narr);\n",
    "      \n",
    "      \\draw[line] (cp) to [in=180,out=180,looseness=2] (g_adv);\n",
    "      \\draw[line] (cp) to [in=0,out=0,looseness=2] (ex_pos);\n",
    "    \\end{tikzpicture}\n",
    "%    \\caption{Communicative purpose framework}\n",
    "    \\label{fig:comm_purpose1}\n",
    "\\end{figure}\n"
   ]
  },
  {
   "cell_type": "markdown",
   "id": "7347431d-1d38-4dd9-bc57-d54fc7596f18",
   "metadata": {},
   "source": [
    "### 12.6. No documento principal 'main.tex', insira o seguinte código, recompile-o e explore-o (as referências são fictícias)"
   ]
  },
  {
   "cell_type": "code",
   "execution_count": null,
   "id": "4dd30fd9-3b98-49f7-84f5-c3822e10b6c0",
   "metadata": {},
   "outputs": [],
   "source": [
    "\\begin{frame}{Communicative purpose framework \\citep{berber_sardinha_deus_2023}}\n",
    "    \\input{input/comm_purpose}\n",
    "\\end{frame}\n"
   ]
  },
  {
   "cell_type": "markdown",
   "id": "f770566f-e748-4bcb-8a9d-a5002dabb844",
   "metadata": {},
   "source": [
    "### 12.6. Procure corrigir o diagrama\n",
    "Note que, em LaTeX, é preciso saber tratar imprevistos."
   ]
  },
  {
   "cell_type": "markdown",
   "id": "452ae935-eb0d-4709-9ccb-e69698cf1abf",
   "metadata": {},
   "source": [
    "#### 12.6.1. Resposta"
   ]
  },
  {
   "cell_type": "markdown",
   "id": "6d28a356-96a5-4673-b244-a366357f412f",
   "metadata": {},
   "source": [
    "Teste o código a seguir em um novo documento 'comm_purpose2.tex'."
   ]
  },
  {
   "cell_type": "code",
   "execution_count": null,
   "id": "5964f458-e016-404c-8e66-4045be4abf2d",
   "metadata": {},
   "outputs": [],
   "source": [
    "\\begin{figure} [htbp]\n",
    "    \\centering\n",
    "    \\tikzstyle{block} = [rectangle, rounded corners, text=black, text centered, draw=black, font=\\footnotesize, minimum height=.21in, minimum width=.65in]\n",
    "    \\tikzstyle{line} = [-latex,draw=black,line width=.4]\n",
    "    \\tikzstyle{line2} = [latex-latex,draw=black,line width=.4]\n",
    "    \\tikzstyle{line3} = [-latex,draw=black,line width=.4,dotted]\n",
    "    \\tikzstyle{line4} = [latex-latex,draw=black,line width=.4,dotted]\n",
    "    \\begin{tikzpicture}\n",
    "      \\node[block,fill=green!50,text=black, minimum width=.7in] (cp) at (10,11) {Communicative Purpose};\n",
    "      \n",
    "      \\node[block,fill=blue!70,text=white, text width=.55in] (argu) at (7,9.4167) {Argue};\n",
    "      \\node[block,fill=blue!70,text=white, text width=.55in] (comp) at (10,9.4167) {Compare};\n",
    "      \\node[block,fill=blue!70,text=white, text width=.55in] (desc) at (13,9.4167) {Describe};\n",
    "      \n",
    "      \\node[block,fill=blue!70,text=white, text width=.55in] (expl) at (5.5,7.8333) {Explain};\n",
    "      \\node[block,fill=blue!70,text=white, text width=.55in] (p_ev) at (8.5,7.8333) {Personal Event};\n",
    "      \\node[block,fill=blue!70,text=white, text width=.55in] (pr_rec) at (11.5,7.8333) {Procedural Recount};\n",
    "      \\node[block,fill=blue!70,text=white, text width=.55in] (narr) at (14.5,7.8333) {Narrate};\n",
    "      \n",
    "      \\node[block,fill=blue!70,text=white, text width=.55in] (g_adv) at (7,6.25) {Give Advice};\n",
    "      \\node[block,fill=blue!70,text=white, text width=.55in] (ex_pos) at (13,6.25) {Express Possibility};\n",
    "      \n",
    "      \\draw[line] (cp) to [in=90,out=205] (argu);\n",
    "      \\draw[line] (cp) to [in=90,out=270] (comp);\n",
    "      \\draw[line] (cp) to [in=90,out=335] (desc);\n",
    "      \n",
    "      \\draw[line] (cp) to [in=90,out=180] (expl);\n",
    "      \\draw[line] (cp) to [in=90,out=230] (p_ev);\n",
    "      \\draw[line] (cp) to [in=90,out=310] (pr_rec);\n",
    "      \\draw[line] (cp) to [in=90,out=0] (narr);\n",
    "      \n",
    "      \\draw[line] (cp) to [in=90,out=220] (g_adv);\n",
    "      \\draw[line] (cp) to [in=90,out=320] (ex_pos);\n",
    "    \\end{tikzpicture}\n",
    "%    \\caption{Communicative purpose framework}\n",
    "    \\label{fig:comm_purpose2}\n",
    "\\end{figure}\n"
   ]
  },
  {
   "cell_type": "markdown",
   "id": "f6bc0344-9e33-46e8-813f-d2c464d88204",
   "metadata": {},
   "source": [
    " Adicione um novo frame em 'main.tex' para exibí-lo."
   ]
  },
  {
   "cell_type": "code",
   "execution_count": null,
   "id": "ed8efff8-c4d2-44a0-9734-747c6fbae723",
   "metadata": {},
   "outputs": [],
   "source": [
    "\\begin{frame}{Communicative purpose framework \\citep{berber_sardinha_deus_2023}}\n",
    "    \\input{input/comm_purpose2}\n",
    "\\end{frame}\n"
   ]
  },
  {
   "cell_type": "markdown",
   "id": "a7d9ae9b-45e1-4a13-a703-9f52cfebeeb9",
   "metadata": {},
   "source": [
    "### 12.7. Crie o documento 'keywords.tex' e insira o seguinte código nele"
   ]
  },
  {
   "cell_type": "code",
   "execution_count": null,
   "id": "9177fa0e-dba8-4862-8446-601f2ac35fb6",
   "metadata": {},
   "outputs": [],
   "source": [
    "\\begin{figure}\n",
    "    \\centering\n",
    "    \\tikzstyle{block} = [rectangle, rounded corners, text=black, text centered, draw=black,font=\\scriptsize, minimum width=.65in, minimum height=.2in]\n",
    "    \\tikzstyle{line} = [-latex,draw=black,line width=.4]\n",
    "    \\tikzstyle{line2} = [latex-latex,draw=black,line width=.4, dashed]\n",
    "    \\begin{tikzpicture}\n",
    "      \\node[block,fill=blue!40,text=black,text width=.95in] (target) at (8,9) {Target corpus};\n",
    "      \\node[block,fill=red!40,text=black,text width=.95in] (reference) at (12,9) {Reference corpus};\n",
    "\n",
    "      \\node[block,fill=blue!40,text=black] (textcounts1) at (5,7.5) {Normed text counts};\n",
    "      \\node[block,fill=red!40,text=black] (textcounts2) at (15,7.5) {Normed text counts};\n",
    "\n",
    "      \\node[block,text=black,text width=.55in, dashed] (word1left) at (8,8) {$Word_1$};\n",
    "      \\node[block,text=black,text width=.55in, dashed] (word1right) at (12,8) {$Word_1$};\n",
    "\n",
    "      \\node[block,text=black,text width=.55in, dashed] (word2left) at (8,7) {$Word_n$};\n",
    "      \\node[block,text=black,text width=.55in, dashed] (word2right) at (12,7) {$Word_n$};\n",
    "\n",
    "      \\node[block,fill=yellow!30,text=black,densely dotted] (comparison) at (10,6) {Statistical comparison};\n",
    "\n",
    "      \\node[block,fill=yellow!30,text=black] (greater) at (6,5) {Target $>$ Reference};\n",
    "\n",
    "      \\node[block,fill=yellow!30,text=black] (similar) at (10,5) {Target $\\sim$ Reference};\n",
    "      \\node[block,fill=yellow!30,text=black] (lesser) at (14,5) {Target $<$ Reference};\n",
    "  \n",
    "      \\node[block,fill=blue!70,text=white] (poskw) at (6,4) {Positive keyword};\n",
    "      \\node[block,text=black] (notkw) at (10,4) {Not a keyword};\n",
    "      \\node[block,fill=red!70,text=white] (negkw) at (14,4) {Negative keyword};\n",
    "  \n",
    "      \\draw[line] (textcounts1) to [in=180,out=0] (word1left); \n",
    "      \\draw[line] (textcounts1) to [in=180,out=0] (word2left); \n",
    "      \\draw[line] (textcounts2) to [in=0,out=180] (word1right); \n",
    "      \\draw[line] (textcounts2) to [in=0,out=180] (word2right); \n",
    "\n",
    "      \\draw[line2] (word1left) to (word1right); \n",
    "      \\draw[line2] (word2left) to (word2right); \n",
    "\n",
    "      \\draw[line] (comparison) to [in=90,out=270, looseness=.4] (greater); \n",
    "      \\draw[line] (comparison) to [in=90,out=270, looseness=.4] (similar); \n",
    "      \\draw[line] (comparison) to [in=90,out=270, looseness=.4] (lesser); \n",
    "\n",
    "      \\draw[line] (greater) to (poskw); \n",
    "      \\draw[line] (similar) to (notkw); \n",
    "      \\draw[line] (lesser) to (negkw); \n",
    "      \n",
    "% Braces       \n",
    "      \\draw[decorate,decoration={brace,amplitude=10pt,mirror}] (target.south west) -- (target.south east);\n",
    "      \\draw[decorate,decoration={brace,amplitude=10pt,mirror}] (reference.south west) -- (reference.south east);\n",
    "      \\draw[decorate,decoration={brace,amplitude=10pt}] (comparison.north west) -- (comparison.north east);\n",
    "    \\end{tikzpicture}\n",
    "%    \\caption{Keywords} \n",
    "    \\label{fig:mdprocedure}\n",
    "\\end{figure}\n"
   ]
  },
  {
   "cell_type": "markdown",
   "id": "18f4cb30-3c92-4cf7-9dd7-1ecb48c399b6",
   "metadata": {},
   "source": [
    "### 12.8. No documento principal 'main.tex', insira o seguinte código, recompile-o e explore-o"
   ]
  },
  {
   "cell_type": "code",
   "execution_count": null,
   "id": "87bf513d-542c-414d-8b43-dda90620a829",
   "metadata": {},
   "outputs": [],
   "source": [
    "\\begin{frame}{Keywords}\n",
    "    \\input{input/keywords}\n",
    "\\end{frame}\n"
   ]
  },
  {
   "cell_type": "markdown",
   "id": "c7f0a4f1-57cc-4b67-93ca-a6b2460529e6",
   "metadata": {},
   "source": [
    "### 12.8. Procure resolver o problema"
   ]
  },
  {
   "cell_type": "markdown",
   "id": "3400339c-7c4a-4e21-bfb7-68b3fcfb9389",
   "metadata": {},
   "source": [
    "- Envie a linha de código '\\draw[decorate,decoration={brace,amplitude=10pt,mirror}] (target.south west) -- (target.south east);' ao ChatGPT\n",
    "- Pergunte ao ChatGPT: 'Which TikZ library is required?'"
   ]
  },
  {
   "cell_type": "markdown",
   "id": "6b96e759-c8f9-4c74-a1c7-9a0b393bee09",
   "metadata": {},
   "source": [
    "#### 12.8.1. Resposta"
   ]
  },
  {
   "cell_type": "markdown",
   "id": "971acec4-5267-47a4-8595-10d742475019",
   "metadata": {},
   "source": [
    "Adicione a linha `\\usetikzlibrary{decorations.pathreplacing}` no preâmbulo do documento, abaixo da linha `\\tikzset{>=latex}`."
   ]
  },
  {
   "cell_type": "code",
   "execution_count": null,
   "id": "eda4ff62-9066-40b7-8783-1f72a621ba66",
   "metadata": {},
   "outputs": [],
   "source": [
    "\\usetikzlibrary{decorations.pathreplacing}\n"
   ]
  },
  {
   "cell_type": "markdown",
   "id": "dd7c5063-4ba0-454a-bc1c-025b396d4d8c",
   "metadata": {},
   "source": [
    "### 12.9. Posicionamento das chaves ('braces')"
   ]
  },
  {
   "cell_type": "markdown",
   "id": "02a8a461-1711-4c5f-8836-21ea53170eb4",
   "metadata": {},
   "source": [
    "Ao desenhar as chaves, refira-se à 'Rosa dos ventos' a seguir para posicioná-las"
   ]
  },
  {
   "cell_type": "markdown",
   "id": "969de116-dac7-4a3d-8429-d5bb8999b1c6",
   "metadata": {},
   "source": [
    "<center>\n",
    "<img src=\"https://laelgelclatexws.s3.sa-east-1.amazonaws.com/compass_rose_en_08p.png\" width=\"300\" alt=\"degrees-360\">\n",
    "<h4>Rosa dos ventos</h4>\n",
    "</center>\n",
    "\n",
    "[Points of the compass](https://en.wikipedia.org/w/index.php?title=Points_of_the_compass&oldid=1179526351)"
   ]
  },
  {
   "cell_type": "markdown",
   "id": "03595746-b102-435b-b9fb-1ab5587b858b",
   "metadata": {},
   "source": [
    "## 13. Emojis"
   ]
  },
  {
   "cell_type": "markdown",
   "id": "878dc269-b056-4570-b146-8d3a8ac43f76",
   "metadata": {},
   "source": [
    "### 13.1. Abra o documento 'Oficina-de-LaTeX-Artigo e insira o seguinte código no preâmbulo do documento"
   ]
  },
  {
   "cell_type": "code",
   "execution_count": null,
   "id": "ef8725cf-f8c5-4dc3-a8b0-fbd976c43e82",
   "metadata": {},
   "outputs": [],
   "source": [
    "\\usepackage{emoji}\n"
   ]
  },
  {
   "cell_type": "markdown",
   "id": "43d175c5-643b-4520-9a56-b7ca89c49ba4",
   "metadata": {},
   "source": [
    "### 13.2. Insira o seguinte código no ambiente do documento"
   ]
  },
  {
   "cell_type": "markdown",
   "id": "855db17b-d0b9-43b5-8d2f-e33e5a78674c",
   "metadata": {},
   "source": [
    "Os emojis devem ser codificados segundo a referência [Emoji Names and Keywords](https://cldr.unicode.org/translation/characters/short-names-and-keywords). A partir desta página localize a página [Full Emoji List, v15.1](http://unicode.org/emoji/charts/full-emoji-list.html)."
   ]
  },
  {
   "cell_type": "code",
   "execution_count": null,
   "id": "ab13f152-2d8d-4c6c-bcbd-d63a79f1f04f",
   "metadata": {},
   "outputs": [],
   "source": [
    "\\emoji{thinking-face}\n",
    "\n",
    "\\emoji{money-bag}\n",
    "\n",
    "\\emoji{pouting-face}\n",
    "\n",
    "\\emoji{flag-china}\n",
    "\n",
    "\\emoji{microbe}\n",
    "\n",
    "\\emoji{thumbs-up}\n",
    "\n",
    "\\emoji{bat}\n",
    "\n",
    "\\emoji{clown-face}\n",
    "\n",
    "\\emoji{skull}\n",
    "\n",
    "\\emoji{flag-brazil}\n",
    "\n",
    "\\emoji{pile-of-poo}\n",
    "\n",
    "\\emoji{face-vomiting}\n"
   ]
  },
  {
   "cell_type": "markdown",
   "id": "318b200c-bb49-4b40-9477-2a679af70d6d",
   "metadata": {},
   "source": [
    "### 13.3. Procure resolver o problema"
   ]
  },
  {
   "cell_type": "markdown",
   "id": "bcefe83a-edf8-4f83-b8b8-e84aa379205d",
   "metadata": {},
   "source": [
    "#### 13.3.1. Resposta"
   ]
  },
  {
   "cell_type": "markdown",
   "id": "55644391-92db-419e-8ada-01eb37ce8bea",
   "metadata": {},
   "source": [
    " - Alterne o compilador para 'LuaLaTeX'\n",
    " - Recompile o documento"
   ]
  },
  {
   "cell_type": "markdown",
   "id": "2660b2d5",
   "metadata": {},
   "source": [
    "## 14. Blocos Beamer"
   ]
  },
  {
   "cell_type": "markdown",
   "id": "ef462a36",
   "metadata": {},
   "source": [
    "Os blocos beamer são utilizados para apresentar informações em apresentações."
   ]
  },
  {
   "cell_type": "markdown",
   "id": "12b87462",
   "metadata": {},
   "source": [
    "### 14.1. Abra o documento 'Oficina-de-LaTeX-Artigo e insira o seguinte código no ambiente do documento"
   ]
  },
  {
   "cell_type": "markdown",
   "id": "16a747ea",
   "metadata": {},
   "source": [
    "Note o funcionamento do bloco 'exampleblock'."
   ]
  },
  {
   "cell_type": "code",
   "execution_count": null,
   "id": "2974b5e8",
   "metadata": {},
   "outputs": [],
   "source": [
    "\\begin{frame} [allowframebreaks] {Exemplos de pesquisas}\n",
    "\\footnotesize\n",
    "\\begin{exampleblock} {Projeto FAPESP “Análise Multidimensional da Língua, Discurso e Sociedade”}\n",
    "    O projeto temático FAPESP “Análise Multidimensional da Língua, Discurso e Sociedade”, o único contemplado na área de Linguística na chamada LinCAR: Abordagens inovadoras na pesquisa em Linguagem, Comunicações e/ou Artes, deverá trazer contribuições importantíssimas para a comunidade científica e para a sociedade.\n",
    "\\end{exampleblock}\n",
    "\n",
    "\\begin{exampleblock} {Eixos do projeto}\n",
    "    Tendo então a AMD como ponto central, o projeto está organizado em três eixos: o desenvolvimento e aperfeiçoamento de metodologias e recursos inovadores para Análise Multidimensional, a descrição multidimensional da variação de registro em línguas e domínios diversos e a identificação multidimensional do discurso em torno de questões socialmente relevantes para o mundo contemporâneo.\n",
    "\\end{exampleblock}\n",
    "\n",
    "\\framebreak\n",
    "\n",
    "\\begin{exampleblock} {Subprojetos}\n",
    "    Cada um desses eixos ocasionará o desenvolvimento de vários subprojetos, tais como:\n",
    "    \\begin{itemize}\n",
    "        \\item Desenvolvimento de ferramentas computacionais inovadoras\n",
    "        \\item Análise multimodal de discursos extremamente relevantes, tais como:\n",
    "        \\begin{itemize}\n",
    "            \\item Sustentabilidade\n",
    "            \\item Mudança climática\n",
    "            \\item Pandemia\n",
    "            \\item Infodemia\n",
    "            \\item Preconceito\n",
    "            \\item Desinformação\n",
    "            \\item Discurso de ódio\n",
    "            \\item Religiosidade\n",
    "        \\end{itemize}\n",
    "    \\end{itemize}\n",
    "\n",
    "\\end{exampleblock}\n",
    "\n",
    "\\end{frame}\n"
   ]
  },
  {
   "cell_type": "markdown",
   "id": "6bf3da93",
   "metadata": {},
   "source": [
    "### 14.2. Adapte o exemplo utilizando os blocos 'block' e 'alertblock'"
   ]
  },
  {
   "cell_type": "markdown",
   "id": "79b67ad4",
   "metadata": {},
   "source": [
    "#### 14.2.1. Resposta"
   ]
  },
  {
   "cell_type": "code",
   "execution_count": null,
   "id": "5855ee0e",
   "metadata": {},
   "outputs": [],
   "source": [
    "\\begin{frame} [allowframebreaks] {Exemplos de pesquisas}\n",
    "\\footnotesize\n",
    "\\begin{exampleblock} {Projeto FAPESP “Análise Multidimensional da Língua, Discurso e Sociedade”}\n",
    "    O projeto temático FAPESP “Análise Multidimensional da Língua, Discurso e Sociedade”, o único contemplado na área de Linguística na chamada LinCAR: Abordagens inovadoras na pesquisa em Linguagem, Comunicações e/ou Artes, deverá trazer contribuições importantíssimas para a comunidade científica e para a sociedade.\n",
    "\\end{exampleblock}\n",
    "\n",
    "\\begin{block} {Eixos do projeto}\n",
    "    Tendo então a AMD como ponto central, o projeto está organizado em três eixos: o desenvolvimento e aperfeiçoamento de metodologias e recursos inovadores para Análise Multidimensional, a descrição multidimensional da variação de registro em línguas e domínios diversos e a identificação multidimensional do discurso em torno de questões socialmente relevantes para o mundo contemporâneo.\n",
    "\\end{block}\n",
    "\n",
    "\\framebreak\n",
    "\n",
    "\\begin{alertblock} {Subprojetos}\n",
    "    Cada um desses eixos ocasionará o desenvolvimento de vários subprojetos, tais como:\n",
    "    \\begin{itemize}\n",
    "        \\item Desenvolvimento de ferramentas computacionais inovadoras\n",
    "        \\item Análise multimodal de discursos extremamente relevantes, tais como:\n",
    "        \\begin{itemize}\n",
    "            \\item Sustentabilidade\n",
    "            \\item Mudança climática\n",
    "            \\item Pandemia\n",
    "            \\item Infodemia\n",
    "            \\item Preconceito\n",
    "            \\item Desinformação\n",
    "            \\item Discurso de ódio\n",
    "            \\item Religiosidade\n",
    "        \\end{itemize}\n",
    "    \\end{itemize}\n",
    "\n",
    "\\end{alertblock}\n",
    "\n",
    "\\end{frame}\n"
   ]
  },
  {
   "cell_type": "markdown",
   "id": "aeb273dc",
   "metadata": {},
   "source": [
    "## 15. Pacote 'tipa' (TeX IPA - International Phonetic Alphabet)"
   ]
  },
  {
   "cell_type": "markdown",
   "id": "e74731cb",
   "metadata": {},
   "source": [
    "### 15.1. Abra o documento 'Oficina-de-LaTeX-Artigo e insira o seguinte código no preâmbulo do documento"
   ]
  },
  {
   "cell_type": "code",
   "execution_count": null,
   "id": "f17c5d73",
   "metadata": {},
   "outputs": [],
   "source": [
    "\\usepackage{tipa} % Enables phonetic symbols (IPA)\n",
    "\\usepackage[T1]{fontenc} % Switch the font encoding to T1, which provides support for the “\\dh” command and other special characters\n"
   ]
  },
  {
   "cell_type": "markdown",
   "id": "903ea8cc",
   "metadata": {},
   "source": [
    "### 15.2. Insira o seguinte código no ambiente do documento (as referências são fictícias)"
   ]
  },
  {
   "cell_type": "markdown",
   "id": "081a2f7e",
   "metadata": {},
   "source": [
    "Note o funcionamento do pacote 'tipa'."
   ]
  },
  {
   "cell_type": "code",
   "execution_count": null,
   "id": "d8c5e78c",
   "metadata": {},
   "outputs": [],
   "source": [
    "\\begin{table}[htbp]\n",
    "    \\centering\n",
    "%    \\captionsetup{justification = raggedright, singlelinecheck = false}\n",
    "    \\caption{English Phonemic Chart (UK)}\n",
    "    \\label{tab:en_phon_chart}\n",
    "    \\begin{tabular}{ |c|c|c|c|c|c|c|c| } \\hline\n",
    "        \\textipa{i:} & \\textipa{I} & \\textipa{U} & \\textipa{u:} & \\textipa{I@} & \\textipa{eI} & - & - \\\\ \\hline\n",
    "        \\textipa{e} & \\textipa{@} & \\textipa{3:} & \\textipa{O:} & \\textipa{U@} & \\textipa{OI} & \\textipa{@U} & - \\\\ \\hline\n",
    "        \\textipa{\\ae} & \\textipa{2} & \\textipa{a:} & \\textipa{6} & \\textipa{e@} & \\textipa{aI} & \\textipa{aU} & - \\\\ \\hline\n",
    "        p & b & t & d & \\textipa{tS} & \\textipa{\\textdyoghlig} & k & \\textipa{g} \\\\ \\hline\n",
    "        f & v & \\textipa{T} & \\textipa{D} & s & z & \\textipa{S} & \\textipa{Z} \\\\ \\hline\n",
    "        m & n & \\textipa{N} & h & l & r & w & j \\\\ \\hline\n",
    "    \\end{tabular}\n",
    "    \\caption*{\\citet{berber_sardinha_deus_2023}}\n",
    "\\end{table}\n"
   ]
  },
  {
   "cell_type": "markdown",
   "id": "47d5a489-bf19-4554-8b54-1ea4bddc1b88",
   "metadata": {},
   "source": [
    "## Referências"
   ]
  },
  {
   "cell_type": "markdown",
   "id": "b576b103-4598-41fe-bfb9-b813c8c6b686",
   "metadata": {},
   "source": [
    "[Beamer Presentations: A Tutorial for Beginners (Part 3)—Blocks, Code, Hyperlinks and Buttons](https://www.overleaf.com/learn/latex/Beamer_Presentations%3A_A_Tutorial_for_Beginners_(Part_3)%E2%80%94Blocks%2C_Code%2C_Hyperlinks_and_Buttons)\n",
    "\n",
    "[CTAN: Comprehensive TeX Archive Network](https://www.ctan.org/)\n",
    "\n",
    "[CTAN: Package tipa](https://ctan.org/pkg/tipa)\n",
    "\n",
    "[CTAN: Package tipa - Manual](http://mirrors.ctan.org/fonts/tipa/tipa/doc/tipaman.pdf)\n",
    "\n",
    "[Degrees (Angles)](https://www.mathsisfun.com/geometry/degrees.html)\n",
    "\n",
    "[Emoji Names and Keywords](https://cldr.unicode.org/translation/characters/short-names-and-keywords)\n",
    "\n",
    "[Full Emoji List, v15.1](http://unicode.org/emoji/charts/full-emoji-list.html)\n",
    "\n",
    "[LaTeX - A document preparation system](https://www.latex-project.org/)\n",
    "\n",
    "[Library Guides: LaTeX: A Brief Guide To LaTeX](https://guides.libraries.psu.edu/latex/create)\n",
    "\n",
    "[Overleaf - Documentation](https://www.overleaf.com/learn)\n",
    "\n",
    "[pgf – A Portable Graphic Format for TeX](https://github.com/pgf-tikz/pgf)\n",
    "\n",
    "[PGF/TikZ Manual - Complete Online Documentation](https://tikz.dev/)\n",
    "\n",
    "[PGF/TikZ Manual - PDF](https://pgf-tikz.github.io/pgf/pgfmanual.pdf)\n",
    "\n",
    "[Points of the compass](https://en.wikipedia.org/w/index.php?title=Points_of_the_compass&oldid=1179526351)\n",
    "\n",
    "[Reserved characters](https://www.aps.org/meetings/abstract/latex.cfm)\n",
    "\n",
    "[TikZ and PGF examples](https://texample.net/tikz/examples/all/)\n",
    "\n",
    "[Zotero - Documentation](https://www.zotero.org/support/)"
   ]
  },
  {
   "cell_type": "markdown",
   "id": "364ef2e9-aeff-4cae-9c46-b453c78d0566",
   "metadata": {},
   "source": [
    "## Apêndice A - Banco de modelos"
   ]
  },
  {
   "cell_type": "markdown",
   "id": "d4c1b9c2-1b75-4661-9e12-05767df9e2e8",
   "metadata": {},
   "source": [
    "[Banco de modelos](https://1drv.ms/f/s!AkJfqVKkVEiigQPu_CZgbPgBuWCI?e=htzpwg)"
   ]
  }
 ],
 "metadata": {
  "kernelspec": {
   "display_name": "anaconda-panel-2023.05-py310",
   "language": "python",
   "name": "conda-env-anaconda-panel-2023.05-py310-py"
  },
  "language_info": {
   "codemirror_mode": {
    "name": "ipython",
    "version": 3
   },
   "file_extension": ".py",
   "mimetype": "text/x-python",
   "name": "python",
   "nbconvert_exporter": "python",
   "pygments_lexer": "ipython3",
   "version": "3.11.5"
  }
 },
 "nbformat": 4,
 "nbformat_minor": 5
}
