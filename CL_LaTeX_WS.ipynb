{
 "cells": [
  {
   "cell_type": "markdown",
   "id": "810d9f10-ec19-4b09-8f90-e983e460b319",
   "metadata": {},
   "source": [
    "<center>\n",
    "<img src=\"https://laelgelcpublic.s3.sa-east-1.amazonaws.com/lael_50_years_narrow_white.png.no_years.400px_96dpi.png\" width=\"300\" alt=\"LAEL 50 years logo\">\n",
    "<h3>PROGRAMA DE PÓS-GRADUAÇÃO EM LINGUÍSTICA APLICADA E ESTUDOS DA LINGUAGEM (LAEL)</h3>\n",
    "</center>\n",
    "<hr>"
   ]
  },
  {
   "cell_type": "markdown",
   "id": "888c2c96-2fc3-4a1a-995b-c388036a2a15",
   "metadata": {},
   "source": [
    "# Oficina de LaTeX\n",
    "Segundo semestre de 2023"
   ]
  },
  {
   "cell_type": "markdown",
   "id": "7a9c2af7-9fc1-4f51-a4f5-2ed915b93039",
   "metadata": {},
   "source": [
    "## 1. Data do evento e link da videochamada Teams"
   ]
  },
  {
   "cell_type": "markdown",
   "id": "f1e1b226-c27d-4ded-a63f-16da009445f2",
   "metadata": {},
   "source": [
    "- Evento\n",
    "  - 30 de outubro de 2023, das 15:00 às 17:00 (BRT/UTC-3h)\n",
    "  - [Videochamada](https://teams.microsoft.com/l/meetup-join/19%3ameeting_ZjQ3MjRjYjUtZjAxNy00MzdlLWEzYWEtNzQ2Njc3YTcyODdh%40thread.v2/0?context=%7b%22Tid%22%3a%228eb29201-a27d-4302-8473-c982eb5be935%22%2c%22Oid%22%3a%22ab8b59c4-4e69-4c4c-9956-b208945103a6%22%7d)"
   ]
  },
  {
   "cell_type": "markdown",
   "id": "751ce73e-3e0a-436d-906a-4f5aa10c8386",
   "metadata": {},
   "source": [
    "## 2. Visão geral do Zotero"
   ]
  },
  {
   "cell_type": "markdown",
   "id": "a9887240-e5df-4673-ab12-1f629a034381",
   "metadata": {},
   "source": [
    "[Zotero](https://www.zotero.org) é um sistema de gerenciamento de bibliografia. Para fins desta oficina, suas principais funcionalidades são:\n",
    "- Adicionar itens à biblioteca por identificador\n",
    "- Adicionar itens à biblioteca via 'Zotero Connector', uma extensão para browser\n",
    "- Acesso à biblioteca online (Web Library)\n",
    "- Organizar coleções\n",
    "- Exportar uma coleção (ou toda a biblioteca) a um arquivo em formato BibTeX\n",
    "- Carregar um arquivo em formato BibTex à biblioteca (atenção: isto pode duplicar itens na biblioteca)"
   ]
  },
  {
   "cell_type": "markdown",
   "id": "c1334b89-7bcf-4f46-bfbf-46c51b6a9110",
   "metadata": {},
   "source": [
    "### 2.1. Acompanhe a demonstração do Zotero"
   ]
  },
  {
   "cell_type": "markdown",
   "id": "422f8322-58fc-4f27-ae80-7cf58865e1fb",
   "metadata": {},
   "source": [
    "### 2.2. Baixe o arquivo 'WS_LaTeX.bib'"
   ]
  },
  {
   "cell_type": "markdown",
   "id": "ef8a8ae0-523d-4312-b325-79b93ab86c91",
   "metadata": {},
   "source": [
    "[WS_LaTeX.bib](https://laelgelclatexws.s3.sa-east-1.amazonaws.com/WS_LaTeX.bib)"
   ]
  },
  {
   "cell_type": "markdown",
   "id": "7273c56e-0a8e-4f3a-8643-37063b8e99bc",
   "metadata": {},
   "source": [
    "## 3. Visão geral do Overleaf"
   ]
  },
  {
   "cell_type": "markdown",
   "id": "caf28a72-4fcb-4b6b-98ff-c3cc08233624",
   "metadata": {},
   "source": [
    "[Overleaf](https://www.overleaf.com/project) é uma plataforma de composição e organização de documentos LaTeX na nuvem. Para fins desta oficina, suas principais funcionalidades são:\n",
    "- Acessível por qualquer computador com browser web\n",
    "- Permite trabalhar com vários documentos simultaneamente, um por tab\n",
    "- Criação e organização de projetos (documentos) LaTeX\n",
    "- Permite carregar projetos (arquivo .zip)\n",
    "- Vários leiautes de visualização do editor e do documento compilado em PDF\n",
    "- Contagem de palavras\n",
    "- Substituição de compilador LaTeX\n",
    "- Verificação de ortografia\n",
    "- Ferramenta de busca e substituição de texto\n",
    "- Sugestão automática de sintaxe de comandos\n",
    "- Oferece documentação online farta e com exemplos\n",
    "  - Em um buscador, entre 'overleaf page setup', por exemplo"
   ]
  },
  {
   "cell_type": "markdown",
   "id": "9bb96416-74df-4268-9574-db52f672cd23",
   "metadata": {},
   "source": [
    "## 4. Estrutura básica de um documento LaTeX"
   ]
  },
  {
   "cell_type": "markdown",
   "id": "632fb243-c2d5-41a5-a0ce-00569d2408d0",
   "metadata": {},
   "source": [
    "A proposta do LaTeX é permitir que o autor se concentre na produção do **conteúdo** do dcumento sem se preocupar com o seu **estilo** (tipografia). Basicamente, um documento LaTeX é composto de três partes:\n",
    "- Preâmbulo\n",
    "  - Definição de tipo de documento e sua parametrização\n",
    "  - Declaração dos pacotes LaTeX desejados\n",
    "   - Pacotes LaTeX são módulos de software que agregam funcionalidades específicas (comandos ou parâmetros específicos) ao documento. Em outras palavras, **comandos específicos requerem pacotes LaTeX específicos**\n",
    "- Ambiente do documento\n",
    "  - Consiste no corpo/conteúdo do documento. Por exemplo: Parágrafos, Seções, Figuras, Tabelas, Diagramas, etc.\n",
    "   - O autor posiciona vários comandos ao longo do documento para instruir o compilador LaTeX a aplicar o estilo (estrutura, apresentação, esquema, etc.) desejado\n",
    "- Páginas especiais\n",
    "  - Por exemplo: índices, glossários, bibliografia, etc.\n",
    "\n",
    "A **sintaxe básica** de um comando LaTeX é:\n",
    " - \\comando[argumentos opcionais]{argumentos obrigatórios}\n",
    "   - Exemplo: \\cite[p.~100]{berber_sardinha_deus_2023}"
   ]
  },
  {
   "cell_type": "markdown",
   "id": "213f4e27-527f-4a2e-b452-8e2f1942d0b1",
   "metadata": {},
   "source": [
    "### 4.1. Identifique as partes do documento LaTeX a seguir"
   ]
  },
  {
   "cell_type": "code",
   "execution_count": null,
   "id": "2cba683b-c148-4357-bcf7-6a4b044d962d",
   "metadata": {},
   "outputs": [],
   "source": [
    "\\documentclass{article}\n",
    "\\usepackage{graphicx} % Required for inserting images\n",
    "\n",
    "\\title{Oficina de LaTeX}\n",
    "\\author{Nome Sobrenome}\n",
    "\\date{Outubro de 2023}\n",
    "\n",
    "\\begin{document}\n",
    "\n",
    "\\maketitle\n",
    "\n",
    "\\section{Introdução}\n",
    "\n",
    "\\end{document}\n"
   ]
  },
  {
   "cell_type": "markdown",
   "id": "0d4fa973-3e9e-4c6d-af14-dfdc05c6482b",
   "metadata": {},
   "source": [
    "#### 4.1.1. Preâmbulo"
   ]
  },
  {
   "cell_type": "code",
   "execution_count": null,
   "id": "3b7da7dd-e52a-44d4-bfb5-b3384535da92",
   "metadata": {},
   "outputs": [],
   "source": [
    "\\documentclass{article}\n",
    "\\usepackage{graphicx} % Required for inserting images\n",
    "\n",
    "\\title{Oficina de LaTeX}\n",
    "\\author{Nome Sobrenome}\n",
    "\\date{Outubro de 2023}\n"
   ]
  },
  {
   "cell_type": "markdown",
   "id": "29747aef-d3f7-4806-94e6-cee89f3b2561",
   "metadata": {},
   "source": [
    "#### 4.1.2. Ambiente do documento (corpo)\n",
    "No LaTeX, ambientes (tabela, figura, etc.) são delimitados pelos comandos '\\begin{}' e '/end{}'"
   ]
  },
  {
   "cell_type": "code",
   "execution_count": null,
   "id": "d297c179-f2c5-4b8d-8467-8d11d35f9013",
   "metadata": {},
   "outputs": [],
   "source": [
    "\\begin{document}\n",
    "\n",
    "\\maketitle\n",
    "\n",
    "\\section{Introdução}\n",
    "\n",
    "\\end{document}\n"
   ]
  },
  {
   "cell_type": "markdown",
   "id": "eafca0bb-5553-4de7-85b0-205db4d49f43",
   "metadata": {},
   "source": [
    "### 4.2. Caracteres reservados"
   ]
  },
  {
   "cell_type": "markdown",
   "id": "938623db-ab62-4d8d-8986-63fa9295b3fa",
   "metadata": {},
   "source": [
    "Certos caracteres sinalizam ao compilador LaTeX operações especiais. Tais caracteres são denominados 'caracteres reservados'. O autor necessita indicar ao compilador quando for desejado 'desativar' o significado especial de tais caracteres precedendo-os, na maioria dos casos, com o caracter de escape '\\\\'."
   ]
  },
  {
   "cell_type": "markdown",
   "id": "654f793d-65ba-4e53-af91-681a0ce16f1f",
   "metadata": {},
   "source": [
    "#### 4.2.1. Utilizando esta [referência](https://www.aps.org/meetings/abstract/latex.cfm), identifique os caracteres reservados na seguinte sentença e ajuste-a a fim de que sejam impressos no documento"
   ]
  },
  {
   "cell_type": "code",
   "execution_count": null,
   "id": "b817524d-efc5-4f47-b53c-762e0eec4ce5",
   "metadata": {
    "tags": []
   },
   "outputs": [],
   "source": [
    "\\cite[p.~100]{berber_sardinha_deus_2023}"
   ]
  },
  {
   "cell_type": "markdown",
   "id": "94af51ed-f78c-4e85-a7e6-131f9d9cc3a1",
   "metadata": {},
   "source": [
    "Resposta:"
   ]
  },
  {
   "cell_type": "code",
   "execution_count": null,
   "id": "19d3448d-a753-4834-8fee-f31ca4935222",
   "metadata": {},
   "outputs": [],
   "source": [
    "$\\backslash$cite[p.$\\sim$100]\\{berber\\_sardinha\\_deus\\_2023\\}"
   ]
  },
  {
   "cell_type": "markdown",
   "id": "42731858-58ce-4841-925a-f783faa6dc9e",
   "metadata": {},
   "source": [
    "### 4.3. Boas práticas"
   ]
  },
  {
   "cell_type": "markdown",
   "id": "ab60cd92-f24d-461b-83d7-56bcc09937fe",
   "metadata": {},
   "source": [
    "- Crie o arquivo de bibliografia no Zotero e associe-o ao documento\n",
    "- Mantenha o preâmbulo bem organizado e utilize comentários\n",
    "- Trabalhe com modelos de código (code snippets) de seu repertório\n",
    "- Compile o documento regularmente e esteja atento às mensagens de erro\n",
    "- Utilize o recurso de 'sugestão de sintaxe de comandos' para aumentar o desempenho da escrita (evite operações de mouse excessivamente frequentes)"
   ]
  },
  {
   "cell_type": "markdown",
   "id": "ad42596e-24c8-4ddd-ace3-60fd31f39785",
   "metadata": {},
   "source": [
    "## 5. Formato de artigo"
   ]
  },
  {
   "cell_type": "markdown",
   "id": "1b42f005-1e42-40c8-b275-5c4dc7426bef",
   "metadata": {},
   "source": [
    "### 5.1. Crie um novo projeto e nomeie-o 'Oficina-de-LaTeX-Artigo'"
   ]
  },
  {
   "cell_type": "markdown",
   "id": "4956845c-11b6-4ea5-a6fd-678671669562",
   "metadata": {},
   "source": [
    "#### 5.1.1. Substitua o conteúdo original de 'main.tex'"
   ]
  },
  {
   "cell_type": "code",
   "execution_count": null,
   "id": "4de47460-a15c-45c5-934c-92f992325fd0",
   "metadata": {},
   "outputs": [],
   "source": [
    "\\documentclass{article}\n",
    "\\usepackage{graphicx} % Required for inserting images\n",
    "\n",
    "\\title{Oficina de LaTeX - Artigo}\n",
    "\\author{Rogerio Yamada}\n",
    "\\date{October 2023}\n",
    "\n",
    "\\begin{document}\n",
    "\n",
    "\\maketitle\n",
    "\n",
    "\\section{Introduction}\n",
    "\n",
    "\\end{document}\n"
   ]
  },
  {
   "cell_type": "markdown",
   "id": "d14ce6f6-4269-4370-93ca-6990ffa0843c",
   "metadata": {},
   "source": [
    "#### 5.1.2. pelo conteúdo a seguir"
   ]
  },
  {
   "cell_type": "code",
   "execution_count": null,
   "id": "4e0fd41d-7962-458b-96ab-6b880a658ce3",
   "metadata": {},
   "outputs": [],
   "source": [
    "\\documentclass{article}\n",
    "%\\usepackage{graphicx} % Required for inserting images\n",
    "\\usepackage{tikz} % Enable TikZ graphic elements package\n",
    " \\tikzset{>=latex}\n",
    "\\usepackage{geometry} % Defines the page setup\n",
    " \\geometry{\n",
    " a4paper,\n",
    " total={160mm, 247mm},\n",
    " left=30mm,\n",
    " top=30mm}\n",
    "%\\usepackage{showframe} % Use it to check the document's page setup\n",
    "\\usepackage{blindtext} % Use it to generate text to help check the document's page setup\n",
    "\\usepackage[natbibapa]{apacite} % Use it to enable APA style\n",
    "%\\usepackage[alf]{abntex2cite} % Use it to enable ABNT style\n",
    "\\usepackage{url} % Allows URLs to be clickable\n",
    "\\usepackage[utf8]{inputenc} % Sets the document encoding to UTF8\n",
    "\\renewcommand{\\rmdefault}{\\sfdefault} % Changes to sans serif typeface\n",
    "%\\usepackage[brazilian]{babel} % Sets multilingual support to 'brazilian'\n",
    "\\usepackage{caption} % Enables better management of captions\n",
    "\\usepackage{float} % Enables better management of floating objects\n",
    "\\usepackage{multirow} % Enables the combination of rows and columns in tables\n",
    "\n",
    "\\title{Article - Template}\n",
    "\\author{Name Surname} % Your name here\n",
    "%\\date{August 2023}\n",
    "\n",
    "\\begin{document}\n",
    "\n",
    "\\maketitle\n",
    "\n",
    "\\begin{abstract}\n",
    "    abstract\n",
    "\\end{abstract}\n",
    "\n",
    "\\section{Introduction}\n",
    "\n",
    "According to \\cite{berber_sardinha_deus_2023}\n",
    "\n",
    "\\section{Literature review}\n",
    "\n",
    "\\section{Methods}\n",
    "\n",
    "\\section{Analysis and discussion of results}\n",
    "\n",
    "\\section{Final considerations}\n",
    "\n",
    "\\bibliographystyle{apacite}\n",
    "\\bibliography{Library20231025} % Copy you BibTex library (.bib file) to the same folder of the .tex file and indicate here the filename without the .bib extension\n",
    "\n",
    "\\end{document}\n"
   ]
  },
  {
   "cell_type": "markdown",
   "id": "b04f82e9-0d8f-4c12-b730-61c72a66cbf5",
   "metadata": {},
   "source": [
    "#### 5.1.3. Carregue o arguivo 'WS_LaTeX.bib' e associe-o ao documento"
   ]
  },
  {
   "cell_type": "markdown",
   "id": "3de69f0e-9d3e-4679-a01f-f87e12baea82",
   "metadata": {},
   "source": [
    "##### 5.1.3.1. Ambiente do documento"
   ]
  },
  {
   "cell_type": "code",
   "execution_count": null,
   "id": "3882fc05-d1c6-4f1b-9017-884616925f91",
   "metadata": {},
   "outputs": [],
   "source": [
    "\\bibliographystyle{apacite}\n",
    "\\bibliography{WS_LaTeX} % Copy you BibTex library (.bib file) to the same folder of the .tex file and indicate here the filename without the .bib extension"
   ]
  },
  {
   "cell_type": "markdown",
   "id": "51108d53-9428-45e9-b4f8-23c880b3e882",
   "metadata": {},
   "source": [
    "##### 5.1.3.2. Feche e regarregue o documento\n",
    "Este procedimento força o documento a reconhecer o arquivo de bibliografia"
   ]
  },
  {
   "cell_type": "markdown",
   "id": "5c32e4be-2f84-4f99-add9-79c2f2782031",
   "metadata": {},
   "source": [
    "##### 5.1.3.3. Compile o documento"
   ]
  },
  {
   "cell_type": "markdown",
   "id": "294e2631-3c5f-4874-bf1a-8aede7aa7941",
   "metadata": {},
   "source": [
    "#### 5.1.4. Clique sobre o arquivo 'WS_Latex.bib' agora contido no projeto e explore-o"
   ]
  },
  {
   "cell_type": "markdown",
   "id": "245c52b1-f15b-4491-a0b3-f50bdd6756f9",
   "metadata": {},
   "source": [
    "Note o citekey 'berber_sardinha_deus_2023'. Ele deve ser único no arquivo todo."
   ]
  },
  {
   "cell_type": "code",
   "execution_count": null,
   "id": "966ce567-3f24-490d-baf3-3b7dab6247ea",
   "metadata": {},
   "outputs": [],
   "source": [
    "@phdthesis{berber_sardinha_deus_2023,\n",
    "\taddress = {São Paulo},\n",
    "\ttype = {Final report},\n",
    "\ttitle = {Deus, {Pátria} e {Família}: {Os} discursos bolsonaristas na rede social {Twitter} [{God}, homeland and family: {Bolsonarista} discourses on the {Twitter} social network]},\n",
    "\tschool = {Pontifical Catholic University of São Paulo (PUC-SP)},\n",
    "\tauthor = {Berber Sardinha, Tony and Ferreira Perriraz, Mabel Maheus},\n",
    "\tyear = {2023},\n",
    "}\n"
   ]
  },
  {
   "cell_type": "markdown",
   "id": "2b8d6a63-323a-4dcd-ad92-b2e90b408b3c",
   "metadata": {},
   "source": [
    "## 6. Formato de apresentação"
   ]
  },
  {
   "cell_type": "markdown",
   "id": "8ad5e481-4880-4843-8cc7-cb33418f63bd",
   "metadata": {},
   "source": [
    "### 6.1. Baixe o arquivo 'Oficina-de-LaTeX-Apresentação.zip'"
   ]
  },
  {
   "cell_type": "markdown",
   "id": "458959f3-4d61-4a6d-b786-ebf879a32309",
   "metadata": {},
   "source": [
    "[Oficina-de-LaTeX-Apresentação](https://laelgelclatexws.s3.sa-east-1.amazonaws.com/Oficina-de-LaTeX-Apresenta%C3%A7%C3%A3o.zip)"
   ]
  },
  {
   "cell_type": "markdown",
   "id": "089f2a6e-7024-48be-8422-c9006ba403f0",
   "metadata": {},
   "source": [
    "### 6.2. Carregue o arquivo 'Oficina-de-LaTeX-Apresentação.zip' no Overleaf"
   ]
  },
  {
   "cell_type": "markdown",
   "id": "c0e375c3-4197-4cad-97c4-e7c5b78be283",
   "metadata": {},
   "source": [
    "<center>\n",
    "<img src=\"https://laelgelclatexws.s3.sa-east-1.amazonaws.com/degrees-360.png\" width=\"300\" alt=\"degrees-360\">\n",
    "<h4>Círculo completo de 360°</h4>\n",
    "</center>\n",
    "\n",
    "[Degrees (Angles)](https://www.mathsisfun.com/geometry/degrees.html)"
   ]
  },
  {
   "cell_type": "markdown",
   "id": "969de116-dac7-4a3d-8429-d5bb8999b1c6",
   "metadata": {},
   "source": [
    "<center>\n",
    "<img src=\"https://laelgelclatexws.s3.sa-east-1.amazonaws.com/compass_rose_en_08p.png\" width=\"300\" alt=\"degrees-360\">\n",
    "<h4>Rosa dos ventos</h4>\n",
    "</center>\n",
    "\n",
    "[Points of the compass](https://en.wikipedia.org/w/index.php?title=Points_of_the_compass&oldid=1179526351)"
   ]
  },
  {
   "cell_type": "markdown",
   "id": "47d5a489-bf19-4554-8b54-1ea4bddc1b88",
   "metadata": {},
   "source": [
    "## Referências"
   ]
  },
  {
   "cell_type": "markdown",
   "id": "b576b103-4598-41fe-bfb9-b813c8c6b686",
   "metadata": {},
   "source": [
    "[CTAN: Comprehensive TeX Archive Network](https://www.ctan.org/)\n",
    "\n",
    "[Degrees (Angles)](https://www.mathsisfun.com/geometry/degrees.html)\n",
    "\n",
    "[LaTeX - A document preparation system](https://www.latex-project.org/)\n",
    "\n",
    "[Library Guides: LaTeX: A Brief Guide To LaTeX](https://guides.libraries.psu.edu/latex/create)\n",
    "\n",
    "[Overleaf - Documentation](https://www.overleaf.com/learn)\n",
    "\n",
    "[pgf – A Portable Graphic Format for TeX](https://github.com/pgf-tikz/pgf)\n",
    "\n",
    "[PGF/TikZ Manual - Complete Online Documentation](https://tikz.dev/)\n",
    "\n",
    "[PGF/TikZ Manual - PDF](https://pgf-tikz.github.io/pgf/pgfmanual.pdf)\n",
    "\n",
    "[Points of the compass](https://en.wikipedia.org/w/index.php?title=Points_of_the_compass&oldid=1179526351)\n",
    "\n",
    "[Reserved characters](https://www.aps.org/meetings/abstract/latex.cfm)\n",
    "\n",
    "[TikZ and PGF examples](https://texample.net/tikz/examples/all/)\n",
    "\n",
    "[Zotero - Documentation](https://www.zotero.org/support/)"
   ]
  },
  {
   "cell_type": "markdown",
   "id": "364ef2e9-aeff-4cae-9c46-b453c78d0566",
   "metadata": {},
   "source": [
    "## Apêndice A - Banco de modelos"
   ]
  },
  {
   "cell_type": "markdown",
   "id": "d4c1b9c2-1b75-4661-9e12-05767df9e2e8",
   "metadata": {},
   "source": [
    "[Templates bank](https://1drv.ms/f/s!AkJfqVKkVEiigQPu_CZgbPgBuWCI?e=htzpwg)"
   ]
  },
  {
   "cell_type": "code",
   "execution_count": null,
   "id": "d823bf3e-7a8f-48d1-a050-20a5f8c3573a",
   "metadata": {},
   "outputs": [],
   "source": []
  }
 ],
 "metadata": {
  "kernelspec": {
   "display_name": "anaconda-panel-2023.05-py310",
   "language": "python",
   "name": "conda-env-anaconda-panel-2023.05-py310-py"
  },
  "language_info": {
   "codemirror_mode": {
    "name": "ipython",
    "version": 3
   },
   "file_extension": ".py",
   "mimetype": "text/x-python",
   "name": "python",
   "nbconvert_exporter": "python",
   "pygments_lexer": "ipython3",
   "version": "3.11.5"
  }
 },
 "nbformat": 4,
 "nbformat_minor": 5
}
