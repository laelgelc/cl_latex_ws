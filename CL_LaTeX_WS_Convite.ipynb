{
 "cells": [
  {
   "cell_type": "markdown",
   "id": "810d9f10-ec19-4b09-8f90-e983e460b319",
   "metadata": {},
   "source": [
    "<center>\n",
    "<img src=\"https://laelgelcpublic.s3.sa-east-1.amazonaws.com/lael_50_years_narrow_white.png.no_years.400px_96dpi.png\" width=\"300\" alt=\"LAEL 50 years logo\">\n",
    "<h3>PROGRAMA DE PÓS-GRADUAÇÃO EM LINGUÍSTICA APLICADA E ESTUDOS DA LINGUAGEM (LAEL)</h3>\n",
    "</center>\n",
    "<hr>"
   ]
  },
  {
   "cell_type": "markdown",
   "id": "888c2c96-2fc3-4a1a-995b-c388036a2a15",
   "metadata": {},
   "source": [
    "# Oficina de LaTeX\n",
    "Segundo semestre de 2023"
   ]
  },
  {
   "cell_type": "markdown",
   "id": "7a9c2af7-9fc1-4f51-a4f5-2ed915b93039",
   "metadata": {},
   "source": [
    "## 1. Objetivos"
   ]
  },
  {
   "cell_type": "markdown",
   "id": "f1e1b226-c27d-4ded-a63f-16da009445f2",
   "metadata": {},
   "source": [
    "- Prover competência básica em LaTeX aos membros do LAEL [GELC](https://www.pucsp.br/pos-graduacao/mestrado-e-doutorado/linguistica-aplicada-e-estudos-da-linguagem#grupos-de-pesquisa-certificados-pelo-cnpq)\n",
    "- Compartilhar dicas, referências úteis e modelos de documentos"
   ]
  },
  {
   "cell_type": "markdown",
   "id": "3658238c-a5ba-4b63-b71e-8d0ac36f7b3f",
   "metadata": {},
   "source": [
    "## 2. Formato"
   ]
  },
  {
   "cell_type": "markdown",
   "id": "ef020314-315d-4098-a61d-5e1e9fbb3f4b",
   "metadata": {},
   "source": [
    "- Uma sessão de duas horas em português\n",
    "- Videochamada via Teams da Microsoft utilizando a conta provida pela PUC-SP aos estudantes\n",
    "- Material de estudo em português e em inglês"
   ]
  },
  {
   "cell_type": "markdown",
   "id": "11f56ce9-f53f-49ad-9f25-db954bbcbaa8",
   "metadata": {},
   "source": [
    "## 3. Conteúdo"
   ]
  },
  {
   "cell_type": "markdown",
   "id": "c8df9d91-cae3-46b7-a691-eaa70435b87b",
   "metadata": {},
   "source": [
    "- Tarefa pré-curso\n",
    "- Introdução ao Zotero\n",
    "- Introdução ao Overleaf\n",
    "- Estrutura de um documento LaTeX\n",
    "- Formato de artigo\n",
    "- Formato de apresentação\n",
    "- Bibliografia\n",
    "- Introdução aos estilos APA e ABNT\n",
    "- Citações\n",
    "- Citação direta longa (_quotes_)\n",
    "- Notas de rodapé\n",
    "- Tabelas\n",
    "- Figuras\n",
    "- Diagramas\n",
    "- Emojis (LuaLaTeX)\n",
    "- Referências para estudo adicional\n",
    "  - Referências úteis\n",
    "  - [Banco de modelos](https://1drv.ms/f/s!AkJfqVKkVEiigQPu_CZgbPgBuWCI?e=htzpwg)"
   ]
  },
  {
   "cell_type": "markdown",
   "id": "ddec6efa-c1d9-4956-9e57-3f5f80a39594",
   "metadata": {},
   "source": [
    "## 4. Tarefa pré-curso"
   ]
  },
  {
   "cell_type": "markdown",
   "id": "19927e7a-fe65-4352-9a9b-55f8f15bbc8f",
   "metadata": {},
   "source": [
    "### 4.1. Microsoft Teams (PUC-SP)"
   ]
  },
  {
   "cell_type": "markdown",
   "id": "ce2978ff-3451-428b-8357-80b512bbd875",
   "metadata": {},
   "source": [
    "- Instalar o [App Microsoft Teams](https://www.microsoft.com/pt-br/microsoft-teams/download-app) e logar-se nele utilizando suas credenciais 'raxxxxxxxx@pucsp.edu.br'\n",
    "- Utilizar a conta Microsoft 365 provida pela PUC-SP\n",
    "  - Entrar em sua conta [Microsoft 365](https://login.microsoftonline.com) utilizando suas credenciais 'raxxxxxxxx@pucsp.edu.br'\n",
    "  - Testar seu acesso nesta [videochamada](https://teams.microsoft.com/l/meetup-join/19%3ameeting_ZjQ3MjRjYjUtZjAxNy00MzdlLWEzYWEtNzQ2Njc3YTcyODdh%40thread.v2/0?context=%7b%22Tid%22%3a%228eb29201-a27d-4302-8473-c982eb5be935%22%2c%22Oid%22%3a%22ab8b59c4-4e69-4c4c-9956-b208945103a6%22%7d)\n",
    "- Utilizar um computador com conexão banda larga à Internet"
   ]
  },
  {
   "cell_type": "markdown",
   "id": "2fe9f10a-22d3-4f8e-91e1-a4deec0e2e6f",
   "metadata": {},
   "source": [
    "### 4.2. Overleaf"
   ]
  },
  {
   "cell_type": "markdown",
   "id": "61249b2f-d76e-49d2-a402-b36579b58692",
   "metadata": {},
   "source": [
    "- Abrir conta no [Overleaf](https://www.overleaf.com/register)"
   ]
  },
  {
   "cell_type": "markdown",
   "id": "288fb9d4-9253-4ad7-9f9f-cf33ddfbb19c",
   "metadata": {},
   "source": [
    "### 4.3. Zotero"
   ]
  },
  {
   "cell_type": "markdown",
   "id": "bf1477e8-3188-4aa6-ba33-ec1b88807c28",
   "metadata": {},
   "source": [
    "#### 4.3.1. Instalar o programa e habilitar sincronização"
   ]
  },
  {
   "cell_type": "markdown",
   "id": "1cca1cf3-a816-41ed-b48c-5dab50e4bde8",
   "metadata": {},
   "source": [
    "- Abrir conta no [Zotero](https://www.zotero.org/user/register)\n",
    "- Instalar o [Programa Zotero](https://www.zotero.org/download/) em seu computador\n",
    "- Instalar opcionalmente o Zotero Connector no browser de seu computador\n",
    "- Sincronizar o Programa Zotero com sua conta:\n",
    "  - Abrir a página [Syncing](https://www.zotero.org/support/sync) e ler a seção 'Data Syncing'\n",
    "  - No Programa Zotero, clicar sobre 'Edit → Preferences' e proceder conforme indicado [aqui](https://www.zotero.org/support/preferences)\n",
    "  - Clicar sobre 'Sync' e proceder conforme indicado [aqui](https://www.zotero.org/support/preferences/sync)"
   ]
  },
  {
   "cell_type": "markdown",
   "id": "ffc253e5-9d12-4deb-aa68-a4f9d7eabe16",
   "metadata": {},
   "source": [
    "#### 4.3.2. Adicionar uma referência via identificador"
   ]
  },
  {
   "cell_type": "markdown",
   "id": "a796580b-4e87-4617-84a1-4636caa6f835",
   "metadata": {},
   "source": [
    "- Adicionar em sua biblioteca a referência cujo ISBN é 9780521320719 procedendo como indicado em [Add Item by Identifier](https://www.zotero.org/support/adding_items_to_zotero#add_item_by_identifier)"
   ]
  }
 ],
 "metadata": {
  "kernelspec": {
   "display_name": "anaconda-panel-2023.05-py310",
   "language": "python",
   "name": "conda-env-anaconda-panel-2023.05-py310-py"
  },
  "language_info": {
   "codemirror_mode": {
    "name": "ipython",
    "version": 3
   },
   "file_extension": ".py",
   "mimetype": "text/x-python",
   "name": "python",
   "nbconvert_exporter": "python",
   "pygments_lexer": "ipython3",
   "version": "3.11.4"
  }
 },
 "nbformat": 4,
 "nbformat_minor": 5
}
